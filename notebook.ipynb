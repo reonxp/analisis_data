{
  "cells": [
    {
      "cell_type": "markdown",
      "metadata": {
        "id": "H9wADwK78DCz"
      },
      "source": [
        "# Proyek Analisis Data: PRSA_Data_Aotizhongxin_20130301-20170228\n",
        "- **Nama:** Bagus Dzakiy Rahman Saputra\n",
        "- **Email:** bagusdzakiy19@gmail.com\n",
        "- **ID Dicoding:** jakiik"
      ]
    },
    {
      "cell_type": "markdown",
      "metadata": {
        "id": "eE0raob58DC0"
      },
      "source": [
        "## Menentukan Pertanyaan Bisnis"
      ]
    },
    {
      "cell_type": "markdown",
      "metadata": {
        "id": "GmQeQ5YF8DC0"
      },
      "source": [
        "- Bagaimana variasi konsentrasi PM2.5 seiring waktu di daerah Aotizhongxin?\n",
        "- Apa faktor cuaca yang paling berpengaruh terhadap konsentrasi polusi udara, khususnya PM2.5?"
      ]
    },
    {
      "cell_type": "markdown",
      "metadata": {
        "id": "H-z4QGlO8DC1"
      },
      "source": [
        "## Import Semua Packages/Library yang Digunakan"
      ]
    },
    {
      "cell_type": "code",
      "execution_count": 77,
      "metadata": {
        "id": "FVYwaObI8DC1"
      },
      "outputs": [],
      "source": [
        "import pandas as pd\n",
        "import numpy as np\n",
        "import matplotlib.pyplot as plt\n",
        "import seaborn as sns"
      ]
    },
    {
      "cell_type": "markdown",
      "metadata": {
        "id": "h_Sh51Xy8DC1"
      },
      "source": [
        "## Data Wrangling"
      ]
    },
    {
      "cell_type": "markdown",
      "metadata": {
        "id": "sXU2GBYu8DC1"
      },
      "source": [
        "### Gathering Data"
      ]
    },
    {
      "cell_type": "code",
      "execution_count": 78,
      "metadata": {
        "id": "zjCBk1BI8DC1",
        "colab": {
          "base_uri": "https://localhost:8080/"
        },
        "outputId": "4b1c31f7-5993-4488-bfc5-52a22d050770"
      },
      "outputs": [
        {
          "output_type": "stream",
          "name": "stdout",
          "text": [
            "Drive already mounted at /content/drive; to attempt to forcibly remount, call drive.mount(\"/content/drive\", force_remount=True).\n"
          ]
        }
      ],
      "source": [
        "# mengimpor data dari google drive\n",
        "\n",
        "from google.colab import drive\n",
        "drive.mount('/content/drive')"
      ]
    },
    {
      "cell_type": "code",
      "source": [
        "# membaca file csv\n",
        "\n",
        "import pandas as pd\n",
        "\n",
        "file_path = '/content/drive/MyDrive/Colab Notebooks/PRSA_Data_Aotizhongxin_20130301-20170228.csv'\n",
        "data = pd.read_csv(file_path)"
      ],
      "metadata": {
        "id": "ULk2LehcXCgh"
      },
      "execution_count": 79,
      "outputs": []
    },
    {
      "cell_type": "code",
      "source": [
        "data.head()"
      ],
      "metadata": {
        "colab": {
          "base_uri": "https://localhost:8080/",
          "height": 206
        },
        "id": "wLylGOa6e54d",
        "outputId": "2232a373-8f25-43a9-af48-6531f405b0c6"
      },
      "execution_count": 80,
      "outputs": [
        {
          "output_type": "execute_result",
          "data": {
            "text/plain": [
              "   No  year  month  day  hour  PM2.5  PM10   SO2   NO2     CO    O3  TEMP  \\\n",
              "0   1  2013      3    1     0    4.0   4.0   4.0   7.0  300.0  77.0  -0.7   \n",
              "1   2  2013      3    1     1    8.0   8.0   4.0   7.0  300.0  77.0  -1.1   \n",
              "2   3  2013      3    1     2    7.0   7.0   5.0  10.0  300.0  73.0  -1.1   \n",
              "3   4  2013      3    1     3    6.0   6.0  11.0  11.0  300.0  72.0  -1.4   \n",
              "4   5  2013      3    1     4    3.0   3.0  12.0  12.0  300.0  72.0  -2.0   \n",
              "\n",
              "     PRES  DEWP  RAIN   wd  WSPM       station  \n",
              "0  1023.0 -18.8   0.0  NNW   4.4  Aotizhongxin  \n",
              "1  1023.2 -18.2   0.0    N   4.7  Aotizhongxin  \n",
              "2  1023.5 -18.2   0.0  NNW   5.6  Aotizhongxin  \n",
              "3  1024.5 -19.4   0.0   NW   3.1  Aotizhongxin  \n",
              "4  1025.2 -19.5   0.0    N   2.0  Aotizhongxin  "
            ],
            "text/html": [
              "\n",
              "  <div id=\"df-d42a7de1-7547-44ff-9ae6-f90ca637e89b\" class=\"colab-df-container\">\n",
              "    <div>\n",
              "<style scoped>\n",
              "    .dataframe tbody tr th:only-of-type {\n",
              "        vertical-align: middle;\n",
              "    }\n",
              "\n",
              "    .dataframe tbody tr th {\n",
              "        vertical-align: top;\n",
              "    }\n",
              "\n",
              "    .dataframe thead th {\n",
              "        text-align: right;\n",
              "    }\n",
              "</style>\n",
              "<table border=\"1\" class=\"dataframe\">\n",
              "  <thead>\n",
              "    <tr style=\"text-align: right;\">\n",
              "      <th></th>\n",
              "      <th>No</th>\n",
              "      <th>year</th>\n",
              "      <th>month</th>\n",
              "      <th>day</th>\n",
              "      <th>hour</th>\n",
              "      <th>PM2.5</th>\n",
              "      <th>PM10</th>\n",
              "      <th>SO2</th>\n",
              "      <th>NO2</th>\n",
              "      <th>CO</th>\n",
              "      <th>O3</th>\n",
              "      <th>TEMP</th>\n",
              "      <th>PRES</th>\n",
              "      <th>DEWP</th>\n",
              "      <th>RAIN</th>\n",
              "      <th>wd</th>\n",
              "      <th>WSPM</th>\n",
              "      <th>station</th>\n",
              "    </tr>\n",
              "  </thead>\n",
              "  <tbody>\n",
              "    <tr>\n",
              "      <th>0</th>\n",
              "      <td>1</td>\n",
              "      <td>2013</td>\n",
              "      <td>3</td>\n",
              "      <td>1</td>\n",
              "      <td>0</td>\n",
              "      <td>4.0</td>\n",
              "      <td>4.0</td>\n",
              "      <td>4.0</td>\n",
              "      <td>7.0</td>\n",
              "      <td>300.0</td>\n",
              "      <td>77.0</td>\n",
              "      <td>-0.7</td>\n",
              "      <td>1023.0</td>\n",
              "      <td>-18.8</td>\n",
              "      <td>0.0</td>\n",
              "      <td>NNW</td>\n",
              "      <td>4.4</td>\n",
              "      <td>Aotizhongxin</td>\n",
              "    </tr>\n",
              "    <tr>\n",
              "      <th>1</th>\n",
              "      <td>2</td>\n",
              "      <td>2013</td>\n",
              "      <td>3</td>\n",
              "      <td>1</td>\n",
              "      <td>1</td>\n",
              "      <td>8.0</td>\n",
              "      <td>8.0</td>\n",
              "      <td>4.0</td>\n",
              "      <td>7.0</td>\n",
              "      <td>300.0</td>\n",
              "      <td>77.0</td>\n",
              "      <td>-1.1</td>\n",
              "      <td>1023.2</td>\n",
              "      <td>-18.2</td>\n",
              "      <td>0.0</td>\n",
              "      <td>N</td>\n",
              "      <td>4.7</td>\n",
              "      <td>Aotizhongxin</td>\n",
              "    </tr>\n",
              "    <tr>\n",
              "      <th>2</th>\n",
              "      <td>3</td>\n",
              "      <td>2013</td>\n",
              "      <td>3</td>\n",
              "      <td>1</td>\n",
              "      <td>2</td>\n",
              "      <td>7.0</td>\n",
              "      <td>7.0</td>\n",
              "      <td>5.0</td>\n",
              "      <td>10.0</td>\n",
              "      <td>300.0</td>\n",
              "      <td>73.0</td>\n",
              "      <td>-1.1</td>\n",
              "      <td>1023.5</td>\n",
              "      <td>-18.2</td>\n",
              "      <td>0.0</td>\n",
              "      <td>NNW</td>\n",
              "      <td>5.6</td>\n",
              "      <td>Aotizhongxin</td>\n",
              "    </tr>\n",
              "    <tr>\n",
              "      <th>3</th>\n",
              "      <td>4</td>\n",
              "      <td>2013</td>\n",
              "      <td>3</td>\n",
              "      <td>1</td>\n",
              "      <td>3</td>\n",
              "      <td>6.0</td>\n",
              "      <td>6.0</td>\n",
              "      <td>11.0</td>\n",
              "      <td>11.0</td>\n",
              "      <td>300.0</td>\n",
              "      <td>72.0</td>\n",
              "      <td>-1.4</td>\n",
              "      <td>1024.5</td>\n",
              "      <td>-19.4</td>\n",
              "      <td>0.0</td>\n",
              "      <td>NW</td>\n",
              "      <td>3.1</td>\n",
              "      <td>Aotizhongxin</td>\n",
              "    </tr>\n",
              "    <tr>\n",
              "      <th>4</th>\n",
              "      <td>5</td>\n",
              "      <td>2013</td>\n",
              "      <td>3</td>\n",
              "      <td>1</td>\n",
              "      <td>4</td>\n",
              "      <td>3.0</td>\n",
              "      <td>3.0</td>\n",
              "      <td>12.0</td>\n",
              "      <td>12.0</td>\n",
              "      <td>300.0</td>\n",
              "      <td>72.0</td>\n",
              "      <td>-2.0</td>\n",
              "      <td>1025.2</td>\n",
              "      <td>-19.5</td>\n",
              "      <td>0.0</td>\n",
              "      <td>N</td>\n",
              "      <td>2.0</td>\n",
              "      <td>Aotizhongxin</td>\n",
              "    </tr>\n",
              "  </tbody>\n",
              "</table>\n",
              "</div>\n",
              "    <div class=\"colab-df-buttons\">\n",
              "\n",
              "  <div class=\"colab-df-container\">\n",
              "    <button class=\"colab-df-convert\" onclick=\"convertToInteractive('df-d42a7de1-7547-44ff-9ae6-f90ca637e89b')\"\n",
              "            title=\"Convert this dataframe to an interactive table.\"\n",
              "            style=\"display:none;\">\n",
              "\n",
              "  <svg xmlns=\"http://www.w3.org/2000/svg\" height=\"24px\" viewBox=\"0 -960 960 960\">\n",
              "    <path d=\"M120-120v-720h720v720H120Zm60-500h600v-160H180v160Zm220 220h160v-160H400v160Zm0 220h160v-160H400v160ZM180-400h160v-160H180v160Zm440 0h160v-160H620v160ZM180-180h160v-160H180v160Zm440 0h160v-160H620v160Z\"/>\n",
              "  </svg>\n",
              "    </button>\n",
              "\n",
              "  <style>\n",
              "    .colab-df-container {\n",
              "      display:flex;\n",
              "      gap: 12px;\n",
              "    }\n",
              "\n",
              "    .colab-df-convert {\n",
              "      background-color: #E8F0FE;\n",
              "      border: none;\n",
              "      border-radius: 50%;\n",
              "      cursor: pointer;\n",
              "      display: none;\n",
              "      fill: #1967D2;\n",
              "      height: 32px;\n",
              "      padding: 0 0 0 0;\n",
              "      width: 32px;\n",
              "    }\n",
              "\n",
              "    .colab-df-convert:hover {\n",
              "      background-color: #E2EBFA;\n",
              "      box-shadow: 0px 1px 2px rgba(60, 64, 67, 0.3), 0px 1px 3px 1px rgba(60, 64, 67, 0.15);\n",
              "      fill: #174EA6;\n",
              "    }\n",
              "\n",
              "    .colab-df-buttons div {\n",
              "      margin-bottom: 4px;\n",
              "    }\n",
              "\n",
              "    [theme=dark] .colab-df-convert {\n",
              "      background-color: #3B4455;\n",
              "      fill: #D2E3FC;\n",
              "    }\n",
              "\n",
              "    [theme=dark] .colab-df-convert:hover {\n",
              "      background-color: #434B5C;\n",
              "      box-shadow: 0px 1px 3px 1px rgba(0, 0, 0, 0.15);\n",
              "      filter: drop-shadow(0px 1px 2px rgba(0, 0, 0, 0.3));\n",
              "      fill: #FFFFFF;\n",
              "    }\n",
              "  </style>\n",
              "\n",
              "    <script>\n",
              "      const buttonEl =\n",
              "        document.querySelector('#df-d42a7de1-7547-44ff-9ae6-f90ca637e89b button.colab-df-convert');\n",
              "      buttonEl.style.display =\n",
              "        google.colab.kernel.accessAllowed ? 'block' : 'none';\n",
              "\n",
              "      async function convertToInteractive(key) {\n",
              "        const element = document.querySelector('#df-d42a7de1-7547-44ff-9ae6-f90ca637e89b');\n",
              "        const dataTable =\n",
              "          await google.colab.kernel.invokeFunction('convertToInteractive',\n",
              "                                                    [key], {});\n",
              "        if (!dataTable) return;\n",
              "\n",
              "        const docLinkHtml = 'Like what you see? Visit the ' +\n",
              "          '<a target=\"_blank\" href=https://colab.research.google.com/notebooks/data_table.ipynb>data table notebook</a>'\n",
              "          + ' to learn more about interactive tables.';\n",
              "        element.innerHTML = '';\n",
              "        dataTable['output_type'] = 'display_data';\n",
              "        await google.colab.output.renderOutput(dataTable, element);\n",
              "        const docLink = document.createElement('div');\n",
              "        docLink.innerHTML = docLinkHtml;\n",
              "        element.appendChild(docLink);\n",
              "      }\n",
              "    </script>\n",
              "  </div>\n",
              "\n",
              "\n",
              "<div id=\"df-788e5079-fed7-4709-8652-feedf5844c07\">\n",
              "  <button class=\"colab-df-quickchart\" onclick=\"quickchart('df-788e5079-fed7-4709-8652-feedf5844c07')\"\n",
              "            title=\"Suggest charts\"\n",
              "            style=\"display:none;\">\n",
              "\n",
              "<svg xmlns=\"http://www.w3.org/2000/svg\" height=\"24px\"viewBox=\"0 0 24 24\"\n",
              "     width=\"24px\">\n",
              "    <g>\n",
              "        <path d=\"M19 3H5c-1.1 0-2 .9-2 2v14c0 1.1.9 2 2 2h14c1.1 0 2-.9 2-2V5c0-1.1-.9-2-2-2zM9 17H7v-7h2v7zm4 0h-2V7h2v10zm4 0h-2v-4h2v4z\"/>\n",
              "    </g>\n",
              "</svg>\n",
              "  </button>\n",
              "\n",
              "<style>\n",
              "  .colab-df-quickchart {\n",
              "      --bg-color: #E8F0FE;\n",
              "      --fill-color: #1967D2;\n",
              "      --hover-bg-color: #E2EBFA;\n",
              "      --hover-fill-color: #174EA6;\n",
              "      --disabled-fill-color: #AAA;\n",
              "      --disabled-bg-color: #DDD;\n",
              "  }\n",
              "\n",
              "  [theme=dark] .colab-df-quickchart {\n",
              "      --bg-color: #3B4455;\n",
              "      --fill-color: #D2E3FC;\n",
              "      --hover-bg-color: #434B5C;\n",
              "      --hover-fill-color: #FFFFFF;\n",
              "      --disabled-bg-color: #3B4455;\n",
              "      --disabled-fill-color: #666;\n",
              "  }\n",
              "\n",
              "  .colab-df-quickchart {\n",
              "    background-color: var(--bg-color);\n",
              "    border: none;\n",
              "    border-radius: 50%;\n",
              "    cursor: pointer;\n",
              "    display: none;\n",
              "    fill: var(--fill-color);\n",
              "    height: 32px;\n",
              "    padding: 0;\n",
              "    width: 32px;\n",
              "  }\n",
              "\n",
              "  .colab-df-quickchart:hover {\n",
              "    background-color: var(--hover-bg-color);\n",
              "    box-shadow: 0 1px 2px rgba(60, 64, 67, 0.3), 0 1px 3px 1px rgba(60, 64, 67, 0.15);\n",
              "    fill: var(--button-hover-fill-color);\n",
              "  }\n",
              "\n",
              "  .colab-df-quickchart-complete:disabled,\n",
              "  .colab-df-quickchart-complete:disabled:hover {\n",
              "    background-color: var(--disabled-bg-color);\n",
              "    fill: var(--disabled-fill-color);\n",
              "    box-shadow: none;\n",
              "  }\n",
              "\n",
              "  .colab-df-spinner {\n",
              "    border: 2px solid var(--fill-color);\n",
              "    border-color: transparent;\n",
              "    border-bottom-color: var(--fill-color);\n",
              "    animation:\n",
              "      spin 1s steps(1) infinite;\n",
              "  }\n",
              "\n",
              "  @keyframes spin {\n",
              "    0% {\n",
              "      border-color: transparent;\n",
              "      border-bottom-color: var(--fill-color);\n",
              "      border-left-color: var(--fill-color);\n",
              "    }\n",
              "    20% {\n",
              "      border-color: transparent;\n",
              "      border-left-color: var(--fill-color);\n",
              "      border-top-color: var(--fill-color);\n",
              "    }\n",
              "    30% {\n",
              "      border-color: transparent;\n",
              "      border-left-color: var(--fill-color);\n",
              "      border-top-color: var(--fill-color);\n",
              "      border-right-color: var(--fill-color);\n",
              "    }\n",
              "    40% {\n",
              "      border-color: transparent;\n",
              "      border-right-color: var(--fill-color);\n",
              "      border-top-color: var(--fill-color);\n",
              "    }\n",
              "    60% {\n",
              "      border-color: transparent;\n",
              "      border-right-color: var(--fill-color);\n",
              "    }\n",
              "    80% {\n",
              "      border-color: transparent;\n",
              "      border-right-color: var(--fill-color);\n",
              "      border-bottom-color: var(--fill-color);\n",
              "    }\n",
              "    90% {\n",
              "      border-color: transparent;\n",
              "      border-bottom-color: var(--fill-color);\n",
              "    }\n",
              "  }\n",
              "</style>\n",
              "\n",
              "  <script>\n",
              "    async function quickchart(key) {\n",
              "      const quickchartButtonEl =\n",
              "        document.querySelector('#' + key + ' button');\n",
              "      quickchartButtonEl.disabled = true;  // To prevent multiple clicks.\n",
              "      quickchartButtonEl.classList.add('colab-df-spinner');\n",
              "      try {\n",
              "        const charts = await google.colab.kernel.invokeFunction(\n",
              "            'suggestCharts', [key], {});\n",
              "      } catch (error) {\n",
              "        console.error('Error during call to suggestCharts:', error);\n",
              "      }\n",
              "      quickchartButtonEl.classList.remove('colab-df-spinner');\n",
              "      quickchartButtonEl.classList.add('colab-df-quickchart-complete');\n",
              "    }\n",
              "    (() => {\n",
              "      let quickchartButtonEl =\n",
              "        document.querySelector('#df-788e5079-fed7-4709-8652-feedf5844c07 button');\n",
              "      quickchartButtonEl.style.display =\n",
              "        google.colab.kernel.accessAllowed ? 'block' : 'none';\n",
              "    })();\n",
              "  </script>\n",
              "</div>\n",
              "\n",
              "    </div>\n",
              "  </div>\n"
            ],
            "application/vnd.google.colaboratory.intrinsic+json": {
              "type": "dataframe",
              "variable_name": "data",
              "summary": "{\n  \"name\": \"data\",\n  \"rows\": 35064,\n  \"fields\": [\n    {\n      \"column\": \"No\",\n      \"properties\": {\n        \"dtype\": \"number\",\n        \"std\": 10122,\n        \"min\": 1,\n        \"max\": 35064,\n        \"num_unique_values\": 35064,\n        \"samples\": [\n          6071,\n          32601,\n          8847\n        ],\n        \"semantic_type\": \"\",\n        \"description\": \"\"\n      }\n    },\n    {\n      \"column\": \"year\",\n      \"properties\": {\n        \"dtype\": \"number\",\n        \"std\": 1,\n        \"min\": 2013,\n        \"max\": 2017,\n        \"num_unique_values\": 5,\n        \"samples\": [\n          2014,\n          2017,\n          2015\n        ],\n        \"semantic_type\": \"\",\n        \"description\": \"\"\n      }\n    },\n    {\n      \"column\": \"month\",\n      \"properties\": {\n        \"dtype\": \"number\",\n        \"std\": 3,\n        \"min\": 1,\n        \"max\": 12,\n        \"num_unique_values\": 12,\n        \"samples\": [\n          1,\n          12,\n          3\n        ],\n        \"semantic_type\": \"\",\n        \"description\": \"\"\n      }\n    },\n    {\n      \"column\": \"day\",\n      \"properties\": {\n        \"dtype\": \"number\",\n        \"std\": 8,\n        \"min\": 1,\n        \"max\": 31,\n        \"num_unique_values\": 31,\n        \"samples\": [\n          28,\n          16,\n          24\n        ],\n        \"semantic_type\": \"\",\n        \"description\": \"\"\n      }\n    },\n    {\n      \"column\": \"hour\",\n      \"properties\": {\n        \"dtype\": \"number\",\n        \"std\": 6,\n        \"min\": 0,\n        \"max\": 23,\n        \"num_unique_values\": 24,\n        \"samples\": [\n          8,\n          16,\n          0\n        ],\n        \"semantic_type\": \"\",\n        \"description\": \"\"\n      }\n    },\n    {\n      \"column\": \"PM2.5\",\n      \"properties\": {\n        \"dtype\": \"number\",\n        \"std\": 82.13569353763613,\n        \"min\": 3.0,\n        \"max\": 898.0,\n        \"num_unique_values\": 545,\n        \"samples\": [\n          224.0,\n          272.0,\n          331.0\n        ],\n        \"semantic_type\": \"\",\n        \"description\": \"\"\n      }\n    },\n    {\n      \"column\": \"PM10\",\n      \"properties\": {\n        \"dtype\": \"number\",\n        \"std\": 95.2230045626726,\n        \"min\": 2.0,\n        \"max\": 984.0,\n        \"num_unique_values\": 633,\n        \"samples\": [\n          164.0,\n          383.0,\n          295.0\n        ],\n        \"semantic_type\": \"\",\n        \"description\": \"\"\n      }\n    },\n    {\n      \"column\": \"SO2\",\n      \"properties\": {\n        \"dtype\": \"number\",\n        \"std\": 22.823016902754237,\n        \"min\": 0.2856,\n        \"max\": 341.0,\n        \"num_unique_values\": 330,\n        \"samples\": [\n          8.0,\n          65.1168,\n          132.0\n        ],\n        \"semantic_type\": \"\",\n        \"description\": \"\"\n      }\n    },\n    {\n      \"column\": \"NO2\",\n      \"properties\": {\n        \"dtype\": \"number\",\n        \"std\": 37.11619958015687,\n        \"min\": 2.0,\n        \"max\": 290.0,\n        \"num_unique_values\": 465,\n        \"samples\": [\n          65.0,\n          178.0,\n          97.0\n        ],\n        \"semantic_type\": \"\",\n        \"description\": \"\"\n      }\n    },\n    {\n      \"column\": \"CO\",\n      \"properties\": {\n        \"dtype\": \"number\",\n        \"std\": 1221.4362363962025,\n        \"min\": 100.0,\n        \"max\": 10000.0,\n        \"num_unique_values\": 112,\n        \"samples\": [\n          3299.0,\n          5100.0,\n          700.0\n        ],\n        \"semantic_type\": \"\",\n        \"description\": \"\"\n      }\n    },\n    {\n      \"column\": \"O3\",\n      \"properties\": {\n        \"dtype\": \"number\",\n        \"std\": 57.9163266442275,\n        \"min\": 0.2142,\n        \"max\": 423.0,\n        \"num_unique_values\": 831,\n        \"samples\": [\n          78.3972,\n          319.0,\n          23.562\n        ],\n        \"semantic_type\": \"\",\n        \"description\": \"\"\n      }\n    },\n    {\n      \"column\": \"TEMP\",\n      \"properties\": {\n        \"dtype\": \"number\",\n        \"std\": 11.399096949946948,\n        \"min\": -16.8,\n        \"max\": 40.5,\n        \"num_unique_values\": 967,\n        \"samples\": [\n          18.8,\n          -10.3,\n          -1.575\n        ],\n        \"semantic_type\": \"\",\n        \"description\": \"\"\n      }\n    },\n    {\n      \"column\": \"PRES\",\n      \"properties\": {\n        \"dtype\": \"number\",\n        \"std\": 10.404046577851366,\n        \"min\": 985.9,\n        \"max\": 1042.0,\n        \"num_unique_values\": 600,\n        \"samples\": [\n          998.6,\n          1029.9,\n          1024.25\n        ],\n        \"semantic_type\": \"\",\n        \"description\": \"\"\n      }\n    },\n    {\n      \"column\": \"DEWP\",\n      \"properties\": {\n        \"dtype\": \"number\",\n        \"std\": 13.688896009288927,\n        \"min\": -35.3,\n        \"max\": 28.5,\n        \"num_unique_values\": 604,\n        \"samples\": [\n          -2.1,\n          27.2,\n          -30.2\n        ],\n        \"semantic_type\": \"\",\n        \"description\": \"\"\n      }\n    },\n    {\n      \"column\": \"RAIN\",\n      \"properties\": {\n        \"dtype\": \"number\",\n        \"std\": 0.9100559139820993,\n        \"min\": 0.0,\n        \"max\": 72.5,\n        \"num_unique_values\": 127,\n        \"samples\": [\n          2.1,\n          13.8,\n          11.3\n        ],\n        \"semantic_type\": \"\",\n        \"description\": \"\"\n      }\n    },\n    {\n      \"column\": \"wd\",\n      \"properties\": {\n        \"dtype\": \"category\",\n        \"num_unique_values\": 16,\n        \"samples\": [\n          \"NNW\",\n          \"N\",\n          \"E\"\n        ],\n        \"semantic_type\": \"\",\n        \"description\": \"\"\n      }\n    },\n    {\n      \"column\": \"WSPM\",\n      \"properties\": {\n        \"dtype\": \"number\",\n        \"std\": 1.2040710727929538,\n        \"min\": 0.0,\n        \"max\": 11.2,\n        \"num_unique_values\": 91,\n        \"samples\": [\n          1.9,\n          0.7,\n          3.2\n        ],\n        \"semantic_type\": \"\",\n        \"description\": \"\"\n      }\n    },\n    {\n      \"column\": \"station\",\n      \"properties\": {\n        \"dtype\": \"category\",\n        \"num_unique_values\": 1,\n        \"samples\": [\n          \"Aotizhongxin\"\n        ],\n        \"semantic_type\": \"\",\n        \"description\": \"\"\n      }\n    }\n  ]\n}"
            }
          },
          "metadata": {},
          "execution_count": 80
        }
      ]
    },
    {
      "cell_type": "markdown",
      "source": [
        "**Insight:**\n",
        "- Menentukan file path csv yang akan kita analisis datanya\n",
        "- load data csv yang kita sudah tentukan pathnya"
      ],
      "metadata": {
        "id": "MMi6xGaDkbCi"
      }
    },
    {
      "cell_type": "markdown",
      "metadata": {
        "id": "FHSiqaZp8DC1"
      },
      "source": [
        "### Assessing Data"
      ]
    },
    {
      "cell_type": "code",
      "source": [
        "# mengecek apakah ada data yang missing atau tidak\n",
        "\n",
        "df = pd.read_csv('/content/drive/MyDrive/Colab Notebooks/PRSA_Data_Aotizhongxin_20130301-20170228.csv')\n",
        "missing_values = df.isnull().sum()\n",
        "print(\"Data missing:\")\n",
        "print(missing_values)"
      ],
      "metadata": {
        "id": "ax-3tEjc9Cj1",
        "colab": {
          "base_uri": "https://localhost:8080/"
        },
        "outputId": "567d5a0f-0597-44c6-c114-9e5d514ce788"
      },
      "execution_count": 81,
      "outputs": [
        {
          "output_type": "stream",
          "name": "stdout",
          "text": [
            "Data missing:\n",
            "No            0\n",
            "year          0\n",
            "month         0\n",
            "day           0\n",
            "hour          0\n",
            "PM2.5       925\n",
            "PM10        718\n",
            "SO2         935\n",
            "NO2        1023\n",
            "CO         1776\n",
            "O3         1719\n",
            "TEMP         20\n",
            "PRES         20\n",
            "DEWP         20\n",
            "RAIN         20\n",
            "wd           81\n",
            "WSPM         14\n",
            "station       0\n",
            "dtype: int64\n"
          ]
        }
      ]
    },
    {
      "cell_type": "code",
      "source": [
        "# mengubah ke persentase dari data yang missing\n",
        "\n",
        "missing_percentage = (df.isnull().sum() / len(df)) * 100\n",
        "print(\"Persentase Missing:\")\n",
        "print(missing_percentage)"
      ],
      "metadata": {
        "colab": {
          "base_uri": "https://localhost:8080/"
        },
        "id": "io_-0mYfiD0K",
        "outputId": "b6655955-ed3e-449a-a42a-bcc1e0b6179f"
      },
      "execution_count": 82,
      "outputs": [
        {
          "output_type": "stream",
          "name": "stdout",
          "text": [
            "Persentase Missing:\n",
            "No         0.000000\n",
            "year       0.000000\n",
            "month      0.000000\n",
            "day        0.000000\n",
            "hour       0.000000\n",
            "PM2.5      2.638033\n",
            "PM10       2.047684\n",
            "SO2        2.666553\n",
            "NO2        2.917522\n",
            "CO         5.065024\n",
            "O3         4.902464\n",
            "TEMP       0.057039\n",
            "PRES       0.057039\n",
            "DEWP       0.057039\n",
            "RAIN       0.057039\n",
            "wd         0.231006\n",
            "WSPM       0.039927\n",
            "station    0.000000\n",
            "dtype: float64\n"
          ]
        }
      ]
    },
    {
      "cell_type": "code",
      "source": [
        "# Dikarenakan pada kolom polutan seharusnya tidak boleh bernilai negatif, kita akan mengeceknya\n",
        "\n",
        "invalid_values_pm25 = df[df['PM2.5'] < 0]\n",
        "invalid_values_pm10 = df[df['PM10'] < 0]\n",
        "invalid_values_so2 = df[df['SO2'] < 0]\n",
        "invalid_values_no2 = df[df['NO2'] < 0]\n",
        "invalid_values_co = df[df['CO'] < 0]\n",
        "invalid_values_o3 = df[df['O3'] < 0]\n",
        "\n",
        "print(\"Invalid Values 'PM2.5':\")\n",
        "print(invalid_values_pm25)\n",
        "print(\"\\nInvalid Values 'PM10':\")\n",
        "print(invalid_values_pm10)\n",
        "print(\"\\nInvalid Values in SO2':\")\n",
        "print(invalid_values_so2)"
      ],
      "metadata": {
        "colab": {
          "base_uri": "https://localhost:8080/"
        },
        "id": "gdAW_aJFiNhX",
        "outputId": "d2c8b678-ee5a-46e1-9b43-dc1aa5fdc124"
      },
      "execution_count": 83,
      "outputs": [
        {
          "output_type": "stream",
          "name": "stdout",
          "text": [
            "Invalid Values 'PM2.5':\n",
            "Empty DataFrame\n",
            "Columns: [No, year, month, day, hour, PM2.5, PM10, SO2, NO2, CO, O3, TEMP, PRES, DEWP, RAIN, wd, WSPM, station]\n",
            "Index: []\n",
            "\n",
            "Invalid Values 'PM10':\n",
            "Empty DataFrame\n",
            "Columns: [No, year, month, day, hour, PM2.5, PM10, SO2, NO2, CO, O3, TEMP, PRES, DEWP, RAIN, wd, WSPM, station]\n",
            "Index: []\n",
            "\n",
            "Invalid Values in SO2':\n",
            "Empty DataFrame\n",
            "Columns: [No, year, month, day, hour, PM2.5, PM10, SO2, NO2, CO, O3, TEMP, PRES, DEWP, RAIN, wd, WSPM, station]\n",
            "Index: []\n"
          ]
        }
      ]
    },
    {
      "cell_type": "code",
      "source": [
        "# Mengecek apakah ada data yang duplikat atau tidak\n",
        "\n",
        "duplicates = df[df.duplicated()]\n",
        "print(\"Duplicate Data:\")\n",
        "print(duplicates)"
      ],
      "metadata": {
        "colab": {
          "base_uri": "https://localhost:8080/"
        },
        "id": "yrIJbH6cjWN8",
        "outputId": "f789821a-1011-40ec-db52-a99c6b8067c7"
      },
      "execution_count": 84,
      "outputs": [
        {
          "output_type": "stream",
          "name": "stdout",
          "text": [
            "Duplicate Data:\n",
            "Empty DataFrame\n",
            "Columns: [No, year, month, day, hour, PM2.5, PM10, SO2, NO2, CO, O3, TEMP, PRES, DEWP, RAIN, wd, WSPM, station]\n",
            "Index: []\n"
          ]
        }
      ]
    },
    {
      "cell_type": "markdown",
      "source": [
        "**Insight:**\n",
        "- Hasil dari assessing data diatas tidak ada data duplikat atau invalid (polutan yang bernilai negatif), melainkan terdapat beberapa data yang missing sehingga kita akan melakukan cleaning data pada proses selanjutnya"
      ],
      "metadata": {
        "id": "7dtxhAPrkhPL"
      }
    },
    {
      "cell_type": "markdown",
      "metadata": {
        "id": "EhN5R4hr8DC1"
      },
      "source": [
        "### Cleaning Data"
      ]
    },
    {
      "cell_type": "code",
      "source": [
        "data_new_filled = data.copy()"
      ],
      "metadata": {
        "id": "phTzbG-qfloW"
      },
      "execution_count": 85,
      "outputs": []
    },
    {
      "cell_type": "code",
      "source": [
        "numerical_columns_new = data.select_dtypes(include=['float64', 'int64']).columns"
      ],
      "metadata": {
        "id": "91UL5to6fr_D"
      },
      "execution_count": 86,
      "outputs": []
    },
    {
      "cell_type": "code",
      "source": [
        "data_new_filled[numerical_columns_new] = data_new_filled[numerical_columns_new].fillna(data_new_filled[numerical_columns_new].median())"
      ],
      "metadata": {
        "id": "14RocJzCefBs"
      },
      "execution_count": 87,
      "outputs": []
    },
    {
      "cell_type": "code",
      "source": [
        "valid_co_range_new = (100, 5000)\n",
        "valid_pm25_range_new = (0, 300)\n",
        "valid_pm10_range_new = (0, 300)\n",
        "valid_so2_range_new = (0, 150)\n",
        "valid_no2_range_new = (0, 200)\n",
        "valid_o3_range_new = (0, 200)\n",
        "valid_temp_range_new = (-20, 50)\n",
        "valid_dewp_range_new = (-40, 30)"
      ],
      "metadata": {
        "id": "D22wly_ueg8w"
      },
      "execution_count": 88,
      "outputs": []
    },
    {
      "cell_type": "code",
      "source": [
        "data_new_cleaned = data_new_filled[\n",
        "    (data_new_filled['CO'].between(valid_co_range_new[0], valid_co_range_new[1])) &\n",
        "    (data_new_filled['PM2.5'].between(valid_pm25_range_new[0], valid_pm25_range_new[1])) &\n",
        "    (data_new_filled['PM10'].between(valid_pm10_range_new[0], valid_pm10_range_new[1])) &\n",
        "    (data_new_filled['SO2'].between(valid_so2_range_new[0], valid_so2_range_new[1])) &\n",
        "    (data_new_filled['NO2'].between(valid_no2_range_new[0], valid_no2_range_new[1])) &\n",
        "    (data_new_filled['O3'].between(valid_o3_range_new[0], valid_o3_range_new[1])) &\n",
        "    (data_new_filled['TEMP'].between(valid_temp_range_new[0], valid_temp_range_new[1])) &\n",
        "    (data_new_filled['DEWP'].between(valid_dewp_range_new[0], valid_dewp_range_new[1]))\n",
        "]"
      ],
      "metadata": {
        "id": "abUxP565ek7h"
      },
      "execution_count": 89,
      "outputs": []
    },
    {
      "cell_type": "code",
      "source": [
        "missing_values_after_cleaning = data_new_cleaned.isna().sum()"
      ],
      "metadata": {
        "id": "UjZ7OPQ3f2qi"
      },
      "execution_count": 90,
      "outputs": []
    },
    {
      "cell_type": "code",
      "source": [
        "missing_values_after_cleaning"
      ],
      "metadata": {
        "colab": {
          "base_uri": "https://localhost:8080/",
          "height": 649
        },
        "id": "ZrDX8VMef333",
        "outputId": "3db3cb4e-2211-44ad-ac10-77297a0ec3f3"
      },
      "execution_count": 91,
      "outputs": [
        {
          "output_type": "execute_result",
          "data": {
            "text/plain": [
              "No          0\n",
              "year        0\n",
              "month       0\n",
              "day         0\n",
              "hour        0\n",
              "PM2.5       0\n",
              "PM10        0\n",
              "SO2         0\n",
              "NO2         0\n",
              "CO          0\n",
              "O3          0\n",
              "TEMP        0\n",
              "PRES        0\n",
              "DEWP        0\n",
              "RAIN        0\n",
              "wd         78\n",
              "WSPM        0\n",
              "station     0\n",
              "dtype: int64"
            ],
            "text/html": [
              "<div>\n",
              "<style scoped>\n",
              "    .dataframe tbody tr th:only-of-type {\n",
              "        vertical-align: middle;\n",
              "    }\n",
              "\n",
              "    .dataframe tbody tr th {\n",
              "        vertical-align: top;\n",
              "    }\n",
              "\n",
              "    .dataframe thead th {\n",
              "        text-align: right;\n",
              "    }\n",
              "</style>\n",
              "<table border=\"1\" class=\"dataframe\">\n",
              "  <thead>\n",
              "    <tr style=\"text-align: right;\">\n",
              "      <th></th>\n",
              "      <th>0</th>\n",
              "    </tr>\n",
              "  </thead>\n",
              "  <tbody>\n",
              "    <tr>\n",
              "      <th>No</th>\n",
              "      <td>0</td>\n",
              "    </tr>\n",
              "    <tr>\n",
              "      <th>year</th>\n",
              "      <td>0</td>\n",
              "    </tr>\n",
              "    <tr>\n",
              "      <th>month</th>\n",
              "      <td>0</td>\n",
              "    </tr>\n",
              "    <tr>\n",
              "      <th>day</th>\n",
              "      <td>0</td>\n",
              "    </tr>\n",
              "    <tr>\n",
              "      <th>hour</th>\n",
              "      <td>0</td>\n",
              "    </tr>\n",
              "    <tr>\n",
              "      <th>PM2.5</th>\n",
              "      <td>0</td>\n",
              "    </tr>\n",
              "    <tr>\n",
              "      <th>PM10</th>\n",
              "      <td>0</td>\n",
              "    </tr>\n",
              "    <tr>\n",
              "      <th>SO2</th>\n",
              "      <td>0</td>\n",
              "    </tr>\n",
              "    <tr>\n",
              "      <th>NO2</th>\n",
              "      <td>0</td>\n",
              "    </tr>\n",
              "    <tr>\n",
              "      <th>CO</th>\n",
              "      <td>0</td>\n",
              "    </tr>\n",
              "    <tr>\n",
              "      <th>O3</th>\n",
              "      <td>0</td>\n",
              "    </tr>\n",
              "    <tr>\n",
              "      <th>TEMP</th>\n",
              "      <td>0</td>\n",
              "    </tr>\n",
              "    <tr>\n",
              "      <th>PRES</th>\n",
              "      <td>0</td>\n",
              "    </tr>\n",
              "    <tr>\n",
              "      <th>DEWP</th>\n",
              "      <td>0</td>\n",
              "    </tr>\n",
              "    <tr>\n",
              "      <th>RAIN</th>\n",
              "      <td>0</td>\n",
              "    </tr>\n",
              "    <tr>\n",
              "      <th>wd</th>\n",
              "      <td>78</td>\n",
              "    </tr>\n",
              "    <tr>\n",
              "      <th>WSPM</th>\n",
              "      <td>0</td>\n",
              "    </tr>\n",
              "    <tr>\n",
              "      <th>station</th>\n",
              "      <td>0</td>\n",
              "    </tr>\n",
              "  </tbody>\n",
              "</table>\n",
              "</div><br><label><b>dtype:</b> int64</label>"
            ]
          },
          "metadata": {},
          "execution_count": 91
        }
      ]
    },
    {
      "cell_type": "code",
      "source": [
        "# setelah mengganti nilai pada data polutan, ternyata masih terdapat data yang salah pada kolom wd\n",
        "\n",
        "unique_wd_values = data['wd'].unique()\n",
        "print(unique_wd_values)"
      ],
      "metadata": {
        "colab": {
          "base_uri": "https://localhost:8080/"
        },
        "id": "N-9waBZhf7b1",
        "outputId": "d140570c-952b-4205-db24-dbadf9ddde5b"
      },
      "execution_count": 92,
      "outputs": [
        {
          "output_type": "stream",
          "name": "stdout",
          "text": [
            "['NNW' 'N' 'NW' 'NNE' 'ENE' 'E' 'NE' 'W' 'SSW' 'WSW' 'SE' 'WNW' 'SSE'\n",
            " 'ESE' 'S' 'SW' nan]\n"
          ]
        }
      ]
    },
    {
      "cell_type": "code",
      "source": [
        "valid_wd_values = ['N', 'NE', 'E', 'SE', 'S', 'SW', 'W', 'NW', 'NNE', 'ENE', 'SSW', 'WSW', 'WNW', 'SSE', 'ESE']"
      ],
      "metadata": {
        "id": "ppg1mEQtgAH3"
      },
      "execution_count": 93,
      "outputs": []
    },
    {
      "cell_type": "code",
      "source": [
        "invalid_wd_values = data[~data['wd'].isin(valid_wd_values)]"
      ],
      "metadata": {
        "id": "qOAcaMIKgB0u"
      },
      "execution_count": 94,
      "outputs": []
    },
    {
      "cell_type": "code",
      "source": [
        "print(invalid_wd_values)"
      ],
      "metadata": {
        "colab": {
          "base_uri": "https://localhost:8080/"
        },
        "id": "2hxrzXIYgG3P",
        "outputId": "bffcf4e0-461d-4252-a3bb-20fd27f400d6"
      },
      "execution_count": 95,
      "outputs": [
        {
          "output_type": "stream",
          "name": "stdout",
          "text": [
            "          No  year  month  day  hour  PM2.5  PM10   SO2   NO2     CO     O3  \\\n",
            "0          1  2013      3    1     0    4.0   4.0   4.0   7.0  300.0   77.0   \n",
            "2          3  2013      3    1     2    7.0   7.0   5.0  10.0  300.0   73.0   \n",
            "7          8  2013      3    1     7    3.0   6.0  19.0  41.0  500.0   43.0   \n",
            "8          9  2013      3    1     8    3.0   6.0  16.0  43.0  500.0   45.0   \n",
            "10        11  2013      3    1    10    3.0   6.0   9.0  12.0  400.0   72.0   \n",
            "...      ...   ...    ...  ...   ...    ...   ...   ...   ...    ...    ...   \n",
            "35046  35047  2017      2   28     6    9.0  16.0  17.0  34.0  500.0   73.0   \n",
            "35050  35051  2017      2   28    10   11.0  16.0   6.0  24.0  300.0   93.0   \n",
            "35053  35054  2017      2   28    13    6.0   8.0   3.0   9.0  100.0  115.0   \n",
            "35055  35056  2017      2   28    15    6.0  19.0   4.0   8.0  100.0  122.0   \n",
            "35062  35063  2017      2   28    22   21.0  44.0  12.0  87.0  700.0   35.0   \n",
            "\n",
            "       TEMP    PRES  DEWP  RAIN   wd  WSPM       station  \n",
            "0      -0.7  1023.0 -18.8   0.0  NNW   4.4  Aotizhongxin  \n",
            "2      -1.1  1023.5 -18.2   0.0  NNW   5.6  Aotizhongxin  \n",
            "7      -1.6  1027.4 -19.1   0.0  NNW   3.8  Aotizhongxin  \n",
            "8       0.1  1028.3 -19.2   0.0  NNW   4.1  Aotizhongxin  \n",
            "10      1.9  1028.2 -19.4   0.0  NNW   3.6  Aotizhongxin  \n",
            "...     ...     ...   ...   ...  ...   ...           ...  \n",
            "35046   9.5  1015.9 -11.2   0.0  NNW   3.1  Aotizhongxin  \n",
            "35050  12.0  1016.6 -13.1   0.0  NNW   2.3  Aotizhongxin  \n",
            "35053  14.0  1014.5 -15.0   0.0  NNW   2.9  Aotizhongxin  \n",
            "35055  15.4  1013.0 -15.0   0.0  NNW   3.3  Aotizhongxin  \n",
            "35062  10.5  1014.4 -12.9   0.0  NNW   1.2  Aotizhongxin  \n",
            "\n",
            "[1670 rows x 18 columns]\n"
          ]
        }
      ]
    },
    {
      "cell_type": "code",
      "source": [
        "data_new_cleaned['wd'] = data['wd'].apply(lambda x: x if x in valid_wd_values else 'N')"
      ],
      "metadata": {
        "colab": {
          "base_uri": "https://localhost:8080/"
        },
        "id": "XM-Q5qL1gJFq",
        "outputId": "4288d2c2-862d-4d4c-f282-b47d2440d89a"
      },
      "execution_count": 96,
      "outputs": [
        {
          "output_type": "stream",
          "name": "stderr",
          "text": [
            "<ipython-input-96-70f9286c10cb>:1: SettingWithCopyWarning: \n",
            "A value is trying to be set on a copy of a slice from a DataFrame.\n",
            "Try using .loc[row_indexer,col_indexer] = value instead\n",
            "\n",
            "See the caveats in the documentation: https://pandas.pydata.org/pandas-docs/stable/user_guide/indexing.html#returning-a-view-versus-a-copy\n",
            "  data_new_cleaned['wd'] = data['wd'].apply(lambda x: x if x in valid_wd_values else 'N')\n"
          ]
        }
      ]
    },
    {
      "cell_type": "code",
      "source": [
        "most_frequent_wd_new = data_new_cleaned['wd'].mode()[0]"
      ],
      "metadata": {
        "id": "0VEN_SC4gcF5"
      },
      "execution_count": 97,
      "outputs": []
    },
    {
      "cell_type": "code",
      "source": [
        "data_new_cleaned['wd'] = data['wd'].fillna(most_frequent_wd_new)"
      ],
      "metadata": {
        "colab": {
          "base_uri": "https://localhost:8080/"
        },
        "id": "oPu_u0bRgeev",
        "outputId": "858a0854-cec0-48ef-b253-bbbfb7f08b5f"
      },
      "execution_count": 99,
      "outputs": [
        {
          "output_type": "stream",
          "name": "stderr",
          "text": [
            "<ipython-input-99-1efa9ad73de1>:1: SettingWithCopyWarning: \n",
            "A value is trying to be set on a copy of a slice from a DataFrame.\n",
            "Try using .loc[row_indexer,col_indexer] = value instead\n",
            "\n",
            "See the caveats in the documentation: https://pandas.pydata.org/pandas-docs/stable/user_guide/indexing.html#returning-a-view-versus-a-copy\n",
            "  data_new_cleaned['wd'] = data['wd'].fillna(most_frequent_wd_new)\n"
          ]
        }
      ]
    },
    {
      "cell_type": "code",
      "source": [
        "missing_values_after_cleaning = data_new_cleaned.isna().sum()"
      ],
      "metadata": {
        "id": "NxBzIOlwghH8"
      },
      "execution_count": 100,
      "outputs": []
    },
    {
      "cell_type": "code",
      "source": [
        "missing_values_after_cleaning"
      ],
      "metadata": {
        "colab": {
          "base_uri": "https://localhost:8080/",
          "height": 649
        },
        "id": "Klv2Q0eAgjpl",
        "outputId": "43c12b0f-f3a8-4798-ca82-d39e135af63a"
      },
      "execution_count": 101,
      "outputs": [
        {
          "output_type": "execute_result",
          "data": {
            "text/plain": [
              "No         0\n",
              "year       0\n",
              "month      0\n",
              "day        0\n",
              "hour       0\n",
              "PM2.5      0\n",
              "PM10       0\n",
              "SO2        0\n",
              "NO2        0\n",
              "CO         0\n",
              "O3         0\n",
              "TEMP       0\n",
              "PRES       0\n",
              "DEWP       0\n",
              "RAIN       0\n",
              "wd         0\n",
              "WSPM       0\n",
              "station    0\n",
              "dtype: int64"
            ],
            "text/html": [
              "<div>\n",
              "<style scoped>\n",
              "    .dataframe tbody tr th:only-of-type {\n",
              "        vertical-align: middle;\n",
              "    }\n",
              "\n",
              "    .dataframe tbody tr th {\n",
              "        vertical-align: top;\n",
              "    }\n",
              "\n",
              "    .dataframe thead th {\n",
              "        text-align: right;\n",
              "    }\n",
              "</style>\n",
              "<table border=\"1\" class=\"dataframe\">\n",
              "  <thead>\n",
              "    <tr style=\"text-align: right;\">\n",
              "      <th></th>\n",
              "      <th>0</th>\n",
              "    </tr>\n",
              "  </thead>\n",
              "  <tbody>\n",
              "    <tr>\n",
              "      <th>No</th>\n",
              "      <td>0</td>\n",
              "    </tr>\n",
              "    <tr>\n",
              "      <th>year</th>\n",
              "      <td>0</td>\n",
              "    </tr>\n",
              "    <tr>\n",
              "      <th>month</th>\n",
              "      <td>0</td>\n",
              "    </tr>\n",
              "    <tr>\n",
              "      <th>day</th>\n",
              "      <td>0</td>\n",
              "    </tr>\n",
              "    <tr>\n",
              "      <th>hour</th>\n",
              "      <td>0</td>\n",
              "    </tr>\n",
              "    <tr>\n",
              "      <th>PM2.5</th>\n",
              "      <td>0</td>\n",
              "    </tr>\n",
              "    <tr>\n",
              "      <th>PM10</th>\n",
              "      <td>0</td>\n",
              "    </tr>\n",
              "    <tr>\n",
              "      <th>SO2</th>\n",
              "      <td>0</td>\n",
              "    </tr>\n",
              "    <tr>\n",
              "      <th>NO2</th>\n",
              "      <td>0</td>\n",
              "    </tr>\n",
              "    <tr>\n",
              "      <th>CO</th>\n",
              "      <td>0</td>\n",
              "    </tr>\n",
              "    <tr>\n",
              "      <th>O3</th>\n",
              "      <td>0</td>\n",
              "    </tr>\n",
              "    <tr>\n",
              "      <th>TEMP</th>\n",
              "      <td>0</td>\n",
              "    </tr>\n",
              "    <tr>\n",
              "      <th>PRES</th>\n",
              "      <td>0</td>\n",
              "    </tr>\n",
              "    <tr>\n",
              "      <th>DEWP</th>\n",
              "      <td>0</td>\n",
              "    </tr>\n",
              "    <tr>\n",
              "      <th>RAIN</th>\n",
              "      <td>0</td>\n",
              "    </tr>\n",
              "    <tr>\n",
              "      <th>wd</th>\n",
              "      <td>0</td>\n",
              "    </tr>\n",
              "    <tr>\n",
              "      <th>WSPM</th>\n",
              "      <td>0</td>\n",
              "    </tr>\n",
              "    <tr>\n",
              "      <th>station</th>\n",
              "      <td>0</td>\n",
              "    </tr>\n",
              "  </tbody>\n",
              "</table>\n",
              "</div><br><label><b>dtype:</b> int64</label>"
            ]
          },
          "metadata": {},
          "execution_count": 101
        }
      ]
    },
    {
      "cell_type": "markdown",
      "source": [
        "**Insight:**\n",
        "- Mengubah data polutan yang missing sebelumnya menggunakan median untuk mengisi nilai yang missing\n",
        "- Mengubah data arah mata angin yang invalid menggunakan nilai N, jika data sebelumnya valid maka tidak akan mengubah apapun"
      ],
      "metadata": {
        "id": "Q_5ejIqckiSP"
      }
    },
    {
      "cell_type": "markdown",
      "metadata": {
        "id": "gp-Y6wU38DC1"
      },
      "source": [
        "## Exploratory Data Analysis (EDA)"
      ]
    },
    {
      "cell_type": "markdown",
      "metadata": {
        "id": "MW7WF2kr8DC1"
      },
      "source": [
        "### Explore ..."
      ]
    },
    {
      "cell_type": "code",
      "execution_count": 102,
      "metadata": {
        "id": "e9CQCZjk8DC2",
        "colab": {
          "base_uri": "https://localhost:8080/",
          "height": 300
        },
        "outputId": "ac07b7f8-443d-47a7-f72b-60d576b1509b"
      },
      "outputs": [
        {
          "output_type": "execute_result",
          "data": {
            "text/plain": [
              "                 No          year         month           day          hour  \\\n",
              "count  32086.000000  32086.000000  32086.000000  32086.000000  32086.000000   \n",
              "mean   17432.460699   2014.651717      6.517889     15.672567     11.349498   \n",
              "std    10161.577890      1.183979      3.439122      8.777793      6.931128   \n",
              "min        1.000000   2013.000000      1.000000      1.000000      0.000000   \n",
              "25%     8550.250000   2014.000000      4.000000      8.000000      5.000000   \n",
              "50%    17314.500000   2015.000000      7.000000     16.000000     11.000000   \n",
              "75%    26249.750000   2016.000000      9.000000     23.000000     17.000000   \n",
              "max    35064.000000   2017.000000     12.000000     31.000000     23.000000   \n",
              "\n",
              "              PM2.5          PM10           SO2           NO2            CO  \\\n",
              "count  32086.000000  32086.000000  32086.000000  32086.000000  32086.000000   \n",
              "mean      69.933949     94.506941     15.603227     56.441669   1095.601197   \n",
              "std       60.782902     69.877030     19.528378     32.639917    873.351102   \n",
              "min        3.000000      2.000000      0.285600      2.000000    100.000000   \n",
              "25%       21.000000     35.000000      3.000000     31.000000    500.000000   \n",
              "50%       55.000000     82.000000      8.000000     53.000000    900.000000   \n",
              "75%      100.000000    139.000000     19.000000     77.000000   1400.000000   \n",
              "max      300.000000    300.000000    150.000000    199.000000   5000.000000   \n",
              "\n",
              "                 O3          TEMP          PRES          DEWP          RAIN  \\\n",
              "count  32086.000000  32086.000000  32086.000000  32086.000000  32086.000000   \n",
              "mean      51.070618     13.416439   1012.087654      2.839014      0.072293   \n",
              "std       46.460092     11.114627     10.408621     13.857474      0.945529   \n",
              "min        0.214200    -16.800000    985.900000    -35.300000      0.000000   \n",
              "25%       10.000000      3.400000   1003.500000     -8.800000      0.000000   \n",
              "50%       42.000000     14.500000   1011.650000      3.600000      0.000000   \n",
              "75%       77.000000     22.900000   1020.400000     15.600000      0.000000   \n",
              "max      200.000000     40.100000   1042.000000     28.500000     72.500000   \n",
              "\n",
              "               WSPM  \n",
              "count  32086.000000  \n",
              "mean       1.707421  \n",
              "std        1.209097  \n",
              "min        0.000000  \n",
              "25%        0.900000  \n",
              "50%        1.400000  \n",
              "75%        2.200000  \n",
              "max       11.200000  "
            ],
            "text/html": [
              "\n",
              "  <div id=\"df-a8bde108-b5ff-46e7-bd29-efb34a3826ea\" class=\"colab-df-container\">\n",
              "    <div>\n",
              "<style scoped>\n",
              "    .dataframe tbody tr th:only-of-type {\n",
              "        vertical-align: middle;\n",
              "    }\n",
              "\n",
              "    .dataframe tbody tr th {\n",
              "        vertical-align: top;\n",
              "    }\n",
              "\n",
              "    .dataframe thead th {\n",
              "        text-align: right;\n",
              "    }\n",
              "</style>\n",
              "<table border=\"1\" class=\"dataframe\">\n",
              "  <thead>\n",
              "    <tr style=\"text-align: right;\">\n",
              "      <th></th>\n",
              "      <th>No</th>\n",
              "      <th>year</th>\n",
              "      <th>month</th>\n",
              "      <th>day</th>\n",
              "      <th>hour</th>\n",
              "      <th>PM2.5</th>\n",
              "      <th>PM10</th>\n",
              "      <th>SO2</th>\n",
              "      <th>NO2</th>\n",
              "      <th>CO</th>\n",
              "      <th>O3</th>\n",
              "      <th>TEMP</th>\n",
              "      <th>PRES</th>\n",
              "      <th>DEWP</th>\n",
              "      <th>RAIN</th>\n",
              "      <th>WSPM</th>\n",
              "    </tr>\n",
              "  </thead>\n",
              "  <tbody>\n",
              "    <tr>\n",
              "      <th>count</th>\n",
              "      <td>32086.000000</td>\n",
              "      <td>32086.000000</td>\n",
              "      <td>32086.000000</td>\n",
              "      <td>32086.000000</td>\n",
              "      <td>32086.000000</td>\n",
              "      <td>32086.000000</td>\n",
              "      <td>32086.000000</td>\n",
              "      <td>32086.000000</td>\n",
              "      <td>32086.000000</td>\n",
              "      <td>32086.000000</td>\n",
              "      <td>32086.000000</td>\n",
              "      <td>32086.000000</td>\n",
              "      <td>32086.000000</td>\n",
              "      <td>32086.000000</td>\n",
              "      <td>32086.000000</td>\n",
              "      <td>32086.000000</td>\n",
              "    </tr>\n",
              "    <tr>\n",
              "      <th>mean</th>\n",
              "      <td>17432.460699</td>\n",
              "      <td>2014.651717</td>\n",
              "      <td>6.517889</td>\n",
              "      <td>15.672567</td>\n",
              "      <td>11.349498</td>\n",
              "      <td>69.933949</td>\n",
              "      <td>94.506941</td>\n",
              "      <td>15.603227</td>\n",
              "      <td>56.441669</td>\n",
              "      <td>1095.601197</td>\n",
              "      <td>51.070618</td>\n",
              "      <td>13.416439</td>\n",
              "      <td>1012.087654</td>\n",
              "      <td>2.839014</td>\n",
              "      <td>0.072293</td>\n",
              "      <td>1.707421</td>\n",
              "    </tr>\n",
              "    <tr>\n",
              "      <th>std</th>\n",
              "      <td>10161.577890</td>\n",
              "      <td>1.183979</td>\n",
              "      <td>3.439122</td>\n",
              "      <td>8.777793</td>\n",
              "      <td>6.931128</td>\n",
              "      <td>60.782902</td>\n",
              "      <td>69.877030</td>\n",
              "      <td>19.528378</td>\n",
              "      <td>32.639917</td>\n",
              "      <td>873.351102</td>\n",
              "      <td>46.460092</td>\n",
              "      <td>11.114627</td>\n",
              "      <td>10.408621</td>\n",
              "      <td>13.857474</td>\n",
              "      <td>0.945529</td>\n",
              "      <td>1.209097</td>\n",
              "    </tr>\n",
              "    <tr>\n",
              "      <th>min</th>\n",
              "      <td>1.000000</td>\n",
              "      <td>2013.000000</td>\n",
              "      <td>1.000000</td>\n",
              "      <td>1.000000</td>\n",
              "      <td>0.000000</td>\n",
              "      <td>3.000000</td>\n",
              "      <td>2.000000</td>\n",
              "      <td>0.285600</td>\n",
              "      <td>2.000000</td>\n",
              "      <td>100.000000</td>\n",
              "      <td>0.214200</td>\n",
              "      <td>-16.800000</td>\n",
              "      <td>985.900000</td>\n",
              "      <td>-35.300000</td>\n",
              "      <td>0.000000</td>\n",
              "      <td>0.000000</td>\n",
              "    </tr>\n",
              "    <tr>\n",
              "      <th>25%</th>\n",
              "      <td>8550.250000</td>\n",
              "      <td>2014.000000</td>\n",
              "      <td>4.000000</td>\n",
              "      <td>8.000000</td>\n",
              "      <td>5.000000</td>\n",
              "      <td>21.000000</td>\n",
              "      <td>35.000000</td>\n",
              "      <td>3.000000</td>\n",
              "      <td>31.000000</td>\n",
              "      <td>500.000000</td>\n",
              "      <td>10.000000</td>\n",
              "      <td>3.400000</td>\n",
              "      <td>1003.500000</td>\n",
              "      <td>-8.800000</td>\n",
              "      <td>0.000000</td>\n",
              "      <td>0.900000</td>\n",
              "    </tr>\n",
              "    <tr>\n",
              "      <th>50%</th>\n",
              "      <td>17314.500000</td>\n",
              "      <td>2015.000000</td>\n",
              "      <td>7.000000</td>\n",
              "      <td>16.000000</td>\n",
              "      <td>11.000000</td>\n",
              "      <td>55.000000</td>\n",
              "      <td>82.000000</td>\n",
              "      <td>8.000000</td>\n",
              "      <td>53.000000</td>\n",
              "      <td>900.000000</td>\n",
              "      <td>42.000000</td>\n",
              "      <td>14.500000</td>\n",
              "      <td>1011.650000</td>\n",
              "      <td>3.600000</td>\n",
              "      <td>0.000000</td>\n",
              "      <td>1.400000</td>\n",
              "    </tr>\n",
              "    <tr>\n",
              "      <th>75%</th>\n",
              "      <td>26249.750000</td>\n",
              "      <td>2016.000000</td>\n",
              "      <td>9.000000</td>\n",
              "      <td>23.000000</td>\n",
              "      <td>17.000000</td>\n",
              "      <td>100.000000</td>\n",
              "      <td>139.000000</td>\n",
              "      <td>19.000000</td>\n",
              "      <td>77.000000</td>\n",
              "      <td>1400.000000</td>\n",
              "      <td>77.000000</td>\n",
              "      <td>22.900000</td>\n",
              "      <td>1020.400000</td>\n",
              "      <td>15.600000</td>\n",
              "      <td>0.000000</td>\n",
              "      <td>2.200000</td>\n",
              "    </tr>\n",
              "    <tr>\n",
              "      <th>max</th>\n",
              "      <td>35064.000000</td>\n",
              "      <td>2017.000000</td>\n",
              "      <td>12.000000</td>\n",
              "      <td>31.000000</td>\n",
              "      <td>23.000000</td>\n",
              "      <td>300.000000</td>\n",
              "      <td>300.000000</td>\n",
              "      <td>150.000000</td>\n",
              "      <td>199.000000</td>\n",
              "      <td>5000.000000</td>\n",
              "      <td>200.000000</td>\n",
              "      <td>40.100000</td>\n",
              "      <td>1042.000000</td>\n",
              "      <td>28.500000</td>\n",
              "      <td>72.500000</td>\n",
              "      <td>11.200000</td>\n",
              "    </tr>\n",
              "  </tbody>\n",
              "</table>\n",
              "</div>\n",
              "    <div class=\"colab-df-buttons\">\n",
              "\n",
              "  <div class=\"colab-df-container\">\n",
              "    <button class=\"colab-df-convert\" onclick=\"convertToInteractive('df-a8bde108-b5ff-46e7-bd29-efb34a3826ea')\"\n",
              "            title=\"Convert this dataframe to an interactive table.\"\n",
              "            style=\"display:none;\">\n",
              "\n",
              "  <svg xmlns=\"http://www.w3.org/2000/svg\" height=\"24px\" viewBox=\"0 -960 960 960\">\n",
              "    <path d=\"M120-120v-720h720v720H120Zm60-500h600v-160H180v160Zm220 220h160v-160H400v160Zm0 220h160v-160H400v160ZM180-400h160v-160H180v160Zm440 0h160v-160H620v160ZM180-180h160v-160H180v160Zm440 0h160v-160H620v160Z\"/>\n",
              "  </svg>\n",
              "    </button>\n",
              "\n",
              "  <style>\n",
              "    .colab-df-container {\n",
              "      display:flex;\n",
              "      gap: 12px;\n",
              "    }\n",
              "\n",
              "    .colab-df-convert {\n",
              "      background-color: #E8F0FE;\n",
              "      border: none;\n",
              "      border-radius: 50%;\n",
              "      cursor: pointer;\n",
              "      display: none;\n",
              "      fill: #1967D2;\n",
              "      height: 32px;\n",
              "      padding: 0 0 0 0;\n",
              "      width: 32px;\n",
              "    }\n",
              "\n",
              "    .colab-df-convert:hover {\n",
              "      background-color: #E2EBFA;\n",
              "      box-shadow: 0px 1px 2px rgba(60, 64, 67, 0.3), 0px 1px 3px 1px rgba(60, 64, 67, 0.15);\n",
              "      fill: #174EA6;\n",
              "    }\n",
              "\n",
              "    .colab-df-buttons div {\n",
              "      margin-bottom: 4px;\n",
              "    }\n",
              "\n",
              "    [theme=dark] .colab-df-convert {\n",
              "      background-color: #3B4455;\n",
              "      fill: #D2E3FC;\n",
              "    }\n",
              "\n",
              "    [theme=dark] .colab-df-convert:hover {\n",
              "      background-color: #434B5C;\n",
              "      box-shadow: 0px 1px 3px 1px rgba(0, 0, 0, 0.15);\n",
              "      filter: drop-shadow(0px 1px 2px rgba(0, 0, 0, 0.3));\n",
              "      fill: #FFFFFF;\n",
              "    }\n",
              "  </style>\n",
              "\n",
              "    <script>\n",
              "      const buttonEl =\n",
              "        document.querySelector('#df-a8bde108-b5ff-46e7-bd29-efb34a3826ea button.colab-df-convert');\n",
              "      buttonEl.style.display =\n",
              "        google.colab.kernel.accessAllowed ? 'block' : 'none';\n",
              "\n",
              "      async function convertToInteractive(key) {\n",
              "        const element = document.querySelector('#df-a8bde108-b5ff-46e7-bd29-efb34a3826ea');\n",
              "        const dataTable =\n",
              "          await google.colab.kernel.invokeFunction('convertToInteractive',\n",
              "                                                    [key], {});\n",
              "        if (!dataTable) return;\n",
              "\n",
              "        const docLinkHtml = 'Like what you see? Visit the ' +\n",
              "          '<a target=\"_blank\" href=https://colab.research.google.com/notebooks/data_table.ipynb>data table notebook</a>'\n",
              "          + ' to learn more about interactive tables.';\n",
              "        element.innerHTML = '';\n",
              "        dataTable['output_type'] = 'display_data';\n",
              "        await google.colab.output.renderOutput(dataTable, element);\n",
              "        const docLink = document.createElement('div');\n",
              "        docLink.innerHTML = docLinkHtml;\n",
              "        element.appendChild(docLink);\n",
              "      }\n",
              "    </script>\n",
              "  </div>\n",
              "\n",
              "\n",
              "<div id=\"df-575586cc-45e2-46d6-b750-65ae4406fd17\">\n",
              "  <button class=\"colab-df-quickchart\" onclick=\"quickchart('df-575586cc-45e2-46d6-b750-65ae4406fd17')\"\n",
              "            title=\"Suggest charts\"\n",
              "            style=\"display:none;\">\n",
              "\n",
              "<svg xmlns=\"http://www.w3.org/2000/svg\" height=\"24px\"viewBox=\"0 0 24 24\"\n",
              "     width=\"24px\">\n",
              "    <g>\n",
              "        <path d=\"M19 3H5c-1.1 0-2 .9-2 2v14c0 1.1.9 2 2 2h14c1.1 0 2-.9 2-2V5c0-1.1-.9-2-2-2zM9 17H7v-7h2v7zm4 0h-2V7h2v10zm4 0h-2v-4h2v4z\"/>\n",
              "    </g>\n",
              "</svg>\n",
              "  </button>\n",
              "\n",
              "<style>\n",
              "  .colab-df-quickchart {\n",
              "      --bg-color: #E8F0FE;\n",
              "      --fill-color: #1967D2;\n",
              "      --hover-bg-color: #E2EBFA;\n",
              "      --hover-fill-color: #174EA6;\n",
              "      --disabled-fill-color: #AAA;\n",
              "      --disabled-bg-color: #DDD;\n",
              "  }\n",
              "\n",
              "  [theme=dark] .colab-df-quickchart {\n",
              "      --bg-color: #3B4455;\n",
              "      --fill-color: #D2E3FC;\n",
              "      --hover-bg-color: #434B5C;\n",
              "      --hover-fill-color: #FFFFFF;\n",
              "      --disabled-bg-color: #3B4455;\n",
              "      --disabled-fill-color: #666;\n",
              "  }\n",
              "\n",
              "  .colab-df-quickchart {\n",
              "    background-color: var(--bg-color);\n",
              "    border: none;\n",
              "    border-radius: 50%;\n",
              "    cursor: pointer;\n",
              "    display: none;\n",
              "    fill: var(--fill-color);\n",
              "    height: 32px;\n",
              "    padding: 0;\n",
              "    width: 32px;\n",
              "  }\n",
              "\n",
              "  .colab-df-quickchart:hover {\n",
              "    background-color: var(--hover-bg-color);\n",
              "    box-shadow: 0 1px 2px rgba(60, 64, 67, 0.3), 0 1px 3px 1px rgba(60, 64, 67, 0.15);\n",
              "    fill: var(--button-hover-fill-color);\n",
              "  }\n",
              "\n",
              "  .colab-df-quickchart-complete:disabled,\n",
              "  .colab-df-quickchart-complete:disabled:hover {\n",
              "    background-color: var(--disabled-bg-color);\n",
              "    fill: var(--disabled-fill-color);\n",
              "    box-shadow: none;\n",
              "  }\n",
              "\n",
              "  .colab-df-spinner {\n",
              "    border: 2px solid var(--fill-color);\n",
              "    border-color: transparent;\n",
              "    border-bottom-color: var(--fill-color);\n",
              "    animation:\n",
              "      spin 1s steps(1) infinite;\n",
              "  }\n",
              "\n",
              "  @keyframes spin {\n",
              "    0% {\n",
              "      border-color: transparent;\n",
              "      border-bottom-color: var(--fill-color);\n",
              "      border-left-color: var(--fill-color);\n",
              "    }\n",
              "    20% {\n",
              "      border-color: transparent;\n",
              "      border-left-color: var(--fill-color);\n",
              "      border-top-color: var(--fill-color);\n",
              "    }\n",
              "    30% {\n",
              "      border-color: transparent;\n",
              "      border-left-color: var(--fill-color);\n",
              "      border-top-color: var(--fill-color);\n",
              "      border-right-color: var(--fill-color);\n",
              "    }\n",
              "    40% {\n",
              "      border-color: transparent;\n",
              "      border-right-color: var(--fill-color);\n",
              "      border-top-color: var(--fill-color);\n",
              "    }\n",
              "    60% {\n",
              "      border-color: transparent;\n",
              "      border-right-color: var(--fill-color);\n",
              "    }\n",
              "    80% {\n",
              "      border-color: transparent;\n",
              "      border-right-color: var(--fill-color);\n",
              "      border-bottom-color: var(--fill-color);\n",
              "    }\n",
              "    90% {\n",
              "      border-color: transparent;\n",
              "      border-bottom-color: var(--fill-color);\n",
              "    }\n",
              "  }\n",
              "</style>\n",
              "\n",
              "  <script>\n",
              "    async function quickchart(key) {\n",
              "      const quickchartButtonEl =\n",
              "        document.querySelector('#' + key + ' button');\n",
              "      quickchartButtonEl.disabled = true;  // To prevent multiple clicks.\n",
              "      quickchartButtonEl.classList.add('colab-df-spinner');\n",
              "      try {\n",
              "        const charts = await google.colab.kernel.invokeFunction(\n",
              "            'suggestCharts', [key], {});\n",
              "      } catch (error) {\n",
              "        console.error('Error during call to suggestCharts:', error);\n",
              "      }\n",
              "      quickchartButtonEl.classList.remove('colab-df-spinner');\n",
              "      quickchartButtonEl.classList.add('colab-df-quickchart-complete');\n",
              "    }\n",
              "    (() => {\n",
              "      let quickchartButtonEl =\n",
              "        document.querySelector('#df-575586cc-45e2-46d6-b750-65ae4406fd17 button');\n",
              "      quickchartButtonEl.style.display =\n",
              "        google.colab.kernel.accessAllowed ? 'block' : 'none';\n",
              "    })();\n",
              "  </script>\n",
              "</div>\n",
              "\n",
              "    </div>\n",
              "  </div>\n"
            ],
            "application/vnd.google.colaboratory.intrinsic+json": {
              "type": "dataframe",
              "summary": "{\n  \"name\": \"data_new_cleaned\",\n  \"rows\": 8,\n  \"fields\": [\n    {\n      \"column\": \"No\",\n      \"properties\": {\n        \"dtype\": \"number\",\n        \"std\": 12142.760308000166,\n        \"min\": 1.0,\n        \"max\": 35064.0,\n        \"num_unique_values\": 8,\n        \"samples\": [\n          17432.46069937044,\n          17314.5,\n          32086.0\n        ],\n        \"semantic_type\": \"\",\n        \"description\": \"\"\n      }\n    },\n    {\n      \"column\": \"year\",\n      \"properties\": {\n        \"dtype\": \"number\",\n        \"std\": 10756.541215391338,\n        \"min\": 1.183978817411775,\n        \"max\": 32086.0,\n        \"num_unique_values\": 8,\n        \"samples\": [\n          2014.6517172598642,\n          2015.0,\n          32086.0\n        ],\n        \"semantic_type\": \"\",\n        \"description\": \"\"\n      }\n    },\n    {\n      \"column\": \"month\",\n      \"properties\": {\n        \"dtype\": \"number\",\n        \"std\": 11341.944948360619,\n        \"min\": 1.0,\n        \"max\": 32086.0,\n        \"num_unique_values\": 8,\n        \"samples\": [\n          6.5178894221778965,\n          7.0,\n          32086.0\n        ],\n        \"semantic_type\": \"\",\n        \"description\": \"\"\n      }\n    },\n    {\n      \"column\": \"day\",\n      \"properties\": {\n        \"dtype\": \"number\",\n        \"std\": 11338.892868389436,\n        \"min\": 1.0,\n        \"max\": 32086.0,\n        \"num_unique_values\": 8,\n        \"samples\": [\n          15.672567474911176,\n          16.0,\n          32086.0\n        ],\n        \"semantic_type\": \"\",\n        \"description\": \"\"\n      }\n    },\n    {\n      \"column\": \"hour\",\n      \"properties\": {\n        \"dtype\": \"number\",\n        \"std\": 11340.364573405508,\n        \"min\": 0.0,\n        \"max\": 32086.0,\n        \"num_unique_values\": 8,\n        \"samples\": [\n          11.349498223524279,\n          11.0,\n          32086.0\n        ],\n        \"semantic_type\": \"\",\n        \"description\": \"\"\n      }\n    },\n    {\n      \"column\": \"PM2.5\",\n      \"properties\": {\n        \"dtype\": \"number\",\n        \"std\": 11313.690939793185,\n        \"min\": 3.0,\n        \"max\": 32086.0,\n        \"num_unique_values\": 8,\n        \"samples\": [\n          69.93394938602506,\n          55.0,\n          32086.0\n        ],\n        \"semantic_type\": \"\",\n        \"description\": \"\"\n      }\n    },\n    {\n      \"column\": \"PM10\",\n      \"properties\": {\n        \"dtype\": \"number\",\n        \"std\": 11307.98533915185,\n        \"min\": 2.0,\n        \"max\": 32086.0,\n        \"num_unique_values\": 8,\n        \"samples\": [\n          94.50694072181014,\n          82.0,\n          32086.0\n        ],\n        \"semantic_type\": \"\",\n        \"description\": \"\"\n      }\n    },\n    {\n      \"column\": \"SO2\",\n      \"properties\": {\n        \"dtype\": \"number\",\n        \"std\": 11333.34057876445,\n        \"min\": 0.2856,\n        \"max\": 32086.0,\n        \"num_unique_values\": 8,\n        \"samples\": [\n          15.603227002430968,\n          8.0,\n          32086.0\n        ],\n        \"semantic_type\": \"\",\n        \"description\": \"\"\n      }\n    },\n    {\n      \"column\": \"NO2\",\n      \"properties\": {\n        \"dtype\": \"number\",\n        \"std\": 11321.485523823194,\n        \"min\": 2.0,\n        \"max\": 32086.0,\n        \"num_unique_values\": 8,\n        \"samples\": [\n          56.44166896465748,\n          53.0,\n          32086.0\n        ],\n        \"semantic_type\": \"\",\n        \"description\": \"\"\n      }\n    },\n    {\n      \"column\": \"CO\",\n      \"properties\": {\n        \"dtype\": \"number\",\n        \"std\": 10951.041876926794,\n        \"min\": 100.0,\n        \"max\": 32086.0,\n        \"num_unique_values\": 8,\n        \"samples\": [\n          1095.601196783644,\n          900.0,\n          32086.0\n        ],\n        \"semantic_type\": \"\",\n        \"description\": \"\"\n      }\n    },\n    {\n      \"column\": \"O3\",\n      \"properties\": {\n        \"dtype\": \"number\",\n        \"std\": 11322.727669183823,\n        \"min\": 0.2142,\n        \"max\": 32086.0,\n        \"num_unique_values\": 8,\n        \"samples\": [\n          51.07061822601757,\n          42.0,\n          32086.0\n        ],\n        \"semantic_type\": \"\",\n        \"description\": \"\"\n      }\n    },\n    {\n      \"column\": \"TEMP\",\n      \"properties\": {\n        \"dtype\": \"number\",\n        \"std\": 11339.648996046772,\n        \"min\": -16.8,\n        \"max\": 32086.0,\n        \"num_unique_values\": 8,\n        \"samples\": [\n          13.41643886247179,\n          14.5,\n          32086.0\n        ],\n        \"semantic_type\": \"\",\n        \"description\": \"\"\n      }\n    },\n    {\n      \"column\": \"PRES\",\n      \"properties\": {\n        \"dtype\": \"number\",\n        \"std\": 11042.308683311718,\n        \"min\": 10.40862075306826,\n        \"max\": 32086.0,\n        \"num_unique_values\": 8,\n        \"samples\": [\n          1012.0876537534542,\n          1011.6500000000001,\n          32086.0\n        ],\n        \"semantic_type\": \"\",\n        \"description\": \"\"\n      }\n    },\n    {\n      \"column\": \"DEWP\",\n      \"properties\": {\n        \"dtype\": \"number\",\n        \"std\": 11343.104915794129,\n        \"min\": -35.3,\n        \"max\": 32086.0,\n        \"num_unique_values\": 8,\n        \"samples\": [\n          2.8390139001433647,\n          3.6,\n          32086.0\n        ],\n        \"semantic_type\": \"\",\n        \"description\": \"\"\n      }\n    },\n    {\n      \"column\": \"RAIN\",\n      \"properties\": {\n        \"dtype\": \"number\",\n        \"std\": 11340.42912913443,\n        \"min\": 0.0,\n        \"max\": 32086.0,\n        \"num_unique_values\": 5,\n        \"samples\": [\n          0.07229321199276943,\n          72.5,\n          0.9455288954739894\n        ],\n        \"semantic_type\": \"\",\n        \"description\": \"\"\n      }\n    },\n    {\n      \"column\": \"WSPM\",\n      \"properties\": {\n        \"dtype\": \"number\",\n        \"std\": 11343.174368053815,\n        \"min\": 0.0,\n        \"max\": 32086.0,\n        \"num_unique_values\": 8,\n        \"samples\": [\n          1.7074206819173472,\n          1.4,\n          32086.0\n        ],\n        \"semantic_type\": \"\",\n        \"description\": \"\"\n      }\n    }\n  ]\n}"
            }
          },
          "metadata": {},
          "execution_count": 102
        }
      ],
      "source": [
        "# melihat statistik data yang sudah melalui proses cleaning\n",
        "data_new_cleaned.describe()"
      ]
    },
    {
      "cell_type": "code",
      "source": [
        "# mengecek apakah masih terdapat data missing\n",
        "missing_values = data_new_cleaned.isnull().sum()\n",
        "print(\"Missing Values in Each Column:\")\n",
        "print(missing_values)"
      ],
      "metadata": {
        "colab": {
          "base_uri": "https://localhost:8080/"
        },
        "id": "U_xSwa8-oQw7",
        "outputId": "e0020dba-b1e9-4c08-a843-be53934469f4"
      },
      "execution_count": 103,
      "outputs": [
        {
          "output_type": "stream",
          "name": "stdout",
          "text": [
            "Missing Values in Each Column:\n",
            "No         0\n",
            "year       0\n",
            "month      0\n",
            "day        0\n",
            "hour       0\n",
            "PM2.5      0\n",
            "PM10       0\n",
            "SO2        0\n",
            "NO2        0\n",
            "CO         0\n",
            "O3         0\n",
            "TEMP       0\n",
            "PRES       0\n",
            "DEWP       0\n",
            "RAIN       0\n",
            "wd         0\n",
            "WSPM       0\n",
            "station    0\n",
            "dtype: int64\n"
          ]
        }
      ]
    },
    {
      "cell_type": "code",
      "source": [
        "# Mengelompokkan data berdasarkan arah angin dan menghitung jumlah kejadian\n",
        "wind_direction_demographics = data_new_cleaned.groupby(by=\"wd\").agg({\n",
        "    \"No\": \"nunique\"\n",
        "})\n",
        "\n",
        "print(wind_direction_demographics)"
      ],
      "metadata": {
        "colab": {
          "base_uri": "https://localhost:8080/"
        },
        "id": "48PrR-cDop7R",
        "outputId": "0aa56fd3-c598-412d-e65c-ebb5027d8d81"
      },
      "execution_count": 249,
      "outputs": [
        {
          "output_type": "stream",
          "name": "stdout",
          "text": [
            "       No\n",
            "wd       \n",
            "E    2332\n",
            "ENE  3571\n",
            "ESE  1520\n",
            "N    1979\n",
            "NE   4835\n",
            "NNE  2335\n",
            "NNW  1525\n",
            "NW   1798\n",
            "S    1113\n",
            "SE   1188\n",
            "SSE   895\n",
            "SSW  1811\n",
            "SW   2968\n",
            "W    1108\n",
            "WNW  1058\n",
            "WSW  2050\n"
          ]
        }
      ]
    },
    {
      "cell_type": "code",
      "source": [
        "# Melihat statistik deskriptif dari kolom numerik\n",
        "numeric_columns = ['PM2.5', 'PM10', 'SO2', 'NO2', 'CO', 'O3', 'TEMP', 'PRES', 'DEWP', 'RAIN', 'WSPM']\n",
        "data_new_cleaned[numeric_columns].describe()"
      ],
      "metadata": {
        "colab": {
          "base_uri": "https://localhost:8080/",
          "height": 175
        },
        "id": "y65q1JNgrD_O",
        "outputId": "0db4cc99-e422-4f75-e167-4f025c491b26"
      },
      "execution_count": 250,
      "outputs": [
        {
          "output_type": "execute_result",
          "data": {
            "text/plain": [
              "          PM2.5     PM10      SO2      NO2       CO       O3     TEMP  \\\n",
              "count   32086.0  32086.0  32086.0  32086.0  32086.0  32086.0  32086.0   \n",
              "unique    310.0    316.0    286.0    411.0     59.0    653.0    944.0   \n",
              "top        58.0     87.0      2.0     53.0    900.0      2.0      3.0   \n",
              "freq     1062.0    865.0   6479.0   1301.0   3289.0   3787.0    228.0   \n",
              "\n",
              "           PRES     DEWP     RAIN     WSPM  \n",
              "count   32086.0  32086.0  32086.0  32086.0  \n",
              "unique    599.0    604.0    126.0     91.0  \n",
              "top      1023.0     17.6      0.0      1.2  \n",
              "freq      245.0    131.0  30732.0   1721.0  "
            ],
            "text/html": [
              "\n",
              "  <div id=\"df-fb45648f-7839-41a1-93e5-ea2ef3bb8ab8\" class=\"colab-df-container\">\n",
              "    <div>\n",
              "<style scoped>\n",
              "    .dataframe tbody tr th:only-of-type {\n",
              "        vertical-align: middle;\n",
              "    }\n",
              "\n",
              "    .dataframe tbody tr th {\n",
              "        vertical-align: top;\n",
              "    }\n",
              "\n",
              "    .dataframe thead th {\n",
              "        text-align: right;\n",
              "    }\n",
              "</style>\n",
              "<table border=\"1\" class=\"dataframe\">\n",
              "  <thead>\n",
              "    <tr style=\"text-align: right;\">\n",
              "      <th></th>\n",
              "      <th>PM2.5</th>\n",
              "      <th>PM10</th>\n",
              "      <th>SO2</th>\n",
              "      <th>NO2</th>\n",
              "      <th>CO</th>\n",
              "      <th>O3</th>\n",
              "      <th>TEMP</th>\n",
              "      <th>PRES</th>\n",
              "      <th>DEWP</th>\n",
              "      <th>RAIN</th>\n",
              "      <th>WSPM</th>\n",
              "    </tr>\n",
              "  </thead>\n",
              "  <tbody>\n",
              "    <tr>\n",
              "      <th>count</th>\n",
              "      <td>32086.0</td>\n",
              "      <td>32086.0</td>\n",
              "      <td>32086.0</td>\n",
              "      <td>32086.0</td>\n",
              "      <td>32086.0</td>\n",
              "      <td>32086.0</td>\n",
              "      <td>32086.0</td>\n",
              "      <td>32086.0</td>\n",
              "      <td>32086.0</td>\n",
              "      <td>32086.0</td>\n",
              "      <td>32086.0</td>\n",
              "    </tr>\n",
              "    <tr>\n",
              "      <th>unique</th>\n",
              "      <td>310.0</td>\n",
              "      <td>316.0</td>\n",
              "      <td>286.0</td>\n",
              "      <td>411.0</td>\n",
              "      <td>59.0</td>\n",
              "      <td>653.0</td>\n",
              "      <td>944.0</td>\n",
              "      <td>599.0</td>\n",
              "      <td>604.0</td>\n",
              "      <td>126.0</td>\n",
              "      <td>91.0</td>\n",
              "    </tr>\n",
              "    <tr>\n",
              "      <th>top</th>\n",
              "      <td>58.0</td>\n",
              "      <td>87.0</td>\n",
              "      <td>2.0</td>\n",
              "      <td>53.0</td>\n",
              "      <td>900.0</td>\n",
              "      <td>2.0</td>\n",
              "      <td>3.0</td>\n",
              "      <td>1023.0</td>\n",
              "      <td>17.6</td>\n",
              "      <td>0.0</td>\n",
              "      <td>1.2</td>\n",
              "    </tr>\n",
              "    <tr>\n",
              "      <th>freq</th>\n",
              "      <td>1062.0</td>\n",
              "      <td>865.0</td>\n",
              "      <td>6479.0</td>\n",
              "      <td>1301.0</td>\n",
              "      <td>3289.0</td>\n",
              "      <td>3787.0</td>\n",
              "      <td>228.0</td>\n",
              "      <td>245.0</td>\n",
              "      <td>131.0</td>\n",
              "      <td>30732.0</td>\n",
              "      <td>1721.0</td>\n",
              "    </tr>\n",
              "  </tbody>\n",
              "</table>\n",
              "</div>\n",
              "    <div class=\"colab-df-buttons\">\n",
              "\n",
              "  <div class=\"colab-df-container\">\n",
              "    <button class=\"colab-df-convert\" onclick=\"convertToInteractive('df-fb45648f-7839-41a1-93e5-ea2ef3bb8ab8')\"\n",
              "            title=\"Convert this dataframe to an interactive table.\"\n",
              "            style=\"display:none;\">\n",
              "\n",
              "  <svg xmlns=\"http://www.w3.org/2000/svg\" height=\"24px\" viewBox=\"0 -960 960 960\">\n",
              "    <path d=\"M120-120v-720h720v720H120Zm60-500h600v-160H180v160Zm220 220h160v-160H400v160Zm0 220h160v-160H400v160ZM180-400h160v-160H180v160Zm440 0h160v-160H620v160ZM180-180h160v-160H180v160Zm440 0h160v-160H620v160Z\"/>\n",
              "  </svg>\n",
              "    </button>\n",
              "\n",
              "  <style>\n",
              "    .colab-df-container {\n",
              "      display:flex;\n",
              "      gap: 12px;\n",
              "    }\n",
              "\n",
              "    .colab-df-convert {\n",
              "      background-color: #E8F0FE;\n",
              "      border: none;\n",
              "      border-radius: 50%;\n",
              "      cursor: pointer;\n",
              "      display: none;\n",
              "      fill: #1967D2;\n",
              "      height: 32px;\n",
              "      padding: 0 0 0 0;\n",
              "      width: 32px;\n",
              "    }\n",
              "\n",
              "    .colab-df-convert:hover {\n",
              "      background-color: #E2EBFA;\n",
              "      box-shadow: 0px 1px 2px rgba(60, 64, 67, 0.3), 0px 1px 3px 1px rgba(60, 64, 67, 0.15);\n",
              "      fill: #174EA6;\n",
              "    }\n",
              "\n",
              "    .colab-df-buttons div {\n",
              "      margin-bottom: 4px;\n",
              "    }\n",
              "\n",
              "    [theme=dark] .colab-df-convert {\n",
              "      background-color: #3B4455;\n",
              "      fill: #D2E3FC;\n",
              "    }\n",
              "\n",
              "    [theme=dark] .colab-df-convert:hover {\n",
              "      background-color: #434B5C;\n",
              "      box-shadow: 0px 1px 3px 1px rgba(0, 0, 0, 0.15);\n",
              "      filter: drop-shadow(0px 1px 2px rgba(0, 0, 0, 0.3));\n",
              "      fill: #FFFFFF;\n",
              "    }\n",
              "  </style>\n",
              "\n",
              "    <script>\n",
              "      const buttonEl =\n",
              "        document.querySelector('#df-fb45648f-7839-41a1-93e5-ea2ef3bb8ab8 button.colab-df-convert');\n",
              "      buttonEl.style.display =\n",
              "        google.colab.kernel.accessAllowed ? 'block' : 'none';\n",
              "\n",
              "      async function convertToInteractive(key) {\n",
              "        const element = document.querySelector('#df-fb45648f-7839-41a1-93e5-ea2ef3bb8ab8');\n",
              "        const dataTable =\n",
              "          await google.colab.kernel.invokeFunction('convertToInteractive',\n",
              "                                                    [key], {});\n",
              "        if (!dataTable) return;\n",
              "\n",
              "        const docLinkHtml = 'Like what you see? Visit the ' +\n",
              "          '<a target=\"_blank\" href=https://colab.research.google.com/notebooks/data_table.ipynb>data table notebook</a>'\n",
              "          + ' to learn more about interactive tables.';\n",
              "        element.innerHTML = '';\n",
              "        dataTable['output_type'] = 'display_data';\n",
              "        await google.colab.output.renderOutput(dataTable, element);\n",
              "        const docLink = document.createElement('div');\n",
              "        docLink.innerHTML = docLinkHtml;\n",
              "        element.appendChild(docLink);\n",
              "      }\n",
              "    </script>\n",
              "  </div>\n",
              "\n",
              "\n",
              "<div id=\"df-69da632f-87c6-4ee7-9ee9-74cefbac0002\">\n",
              "  <button class=\"colab-df-quickchart\" onclick=\"quickchart('df-69da632f-87c6-4ee7-9ee9-74cefbac0002')\"\n",
              "            title=\"Suggest charts\"\n",
              "            style=\"display:none;\">\n",
              "\n",
              "<svg xmlns=\"http://www.w3.org/2000/svg\" height=\"24px\"viewBox=\"0 0 24 24\"\n",
              "     width=\"24px\">\n",
              "    <g>\n",
              "        <path d=\"M19 3H5c-1.1 0-2 .9-2 2v14c0 1.1.9 2 2 2h14c1.1 0 2-.9 2-2V5c0-1.1-.9-2-2-2zM9 17H7v-7h2v7zm4 0h-2V7h2v10zm4 0h-2v-4h2v4z\"/>\n",
              "    </g>\n",
              "</svg>\n",
              "  </button>\n",
              "\n",
              "<style>\n",
              "  .colab-df-quickchart {\n",
              "      --bg-color: #E8F0FE;\n",
              "      --fill-color: #1967D2;\n",
              "      --hover-bg-color: #E2EBFA;\n",
              "      --hover-fill-color: #174EA6;\n",
              "      --disabled-fill-color: #AAA;\n",
              "      --disabled-bg-color: #DDD;\n",
              "  }\n",
              "\n",
              "  [theme=dark] .colab-df-quickchart {\n",
              "      --bg-color: #3B4455;\n",
              "      --fill-color: #D2E3FC;\n",
              "      --hover-bg-color: #434B5C;\n",
              "      --hover-fill-color: #FFFFFF;\n",
              "      --disabled-bg-color: #3B4455;\n",
              "      --disabled-fill-color: #666;\n",
              "  }\n",
              "\n",
              "  .colab-df-quickchart {\n",
              "    background-color: var(--bg-color);\n",
              "    border: none;\n",
              "    border-radius: 50%;\n",
              "    cursor: pointer;\n",
              "    display: none;\n",
              "    fill: var(--fill-color);\n",
              "    height: 32px;\n",
              "    padding: 0;\n",
              "    width: 32px;\n",
              "  }\n",
              "\n",
              "  .colab-df-quickchart:hover {\n",
              "    background-color: var(--hover-bg-color);\n",
              "    box-shadow: 0 1px 2px rgba(60, 64, 67, 0.3), 0 1px 3px 1px rgba(60, 64, 67, 0.15);\n",
              "    fill: var(--button-hover-fill-color);\n",
              "  }\n",
              "\n",
              "  .colab-df-quickchart-complete:disabled,\n",
              "  .colab-df-quickchart-complete:disabled:hover {\n",
              "    background-color: var(--disabled-bg-color);\n",
              "    fill: var(--disabled-fill-color);\n",
              "    box-shadow: none;\n",
              "  }\n",
              "\n",
              "  .colab-df-spinner {\n",
              "    border: 2px solid var(--fill-color);\n",
              "    border-color: transparent;\n",
              "    border-bottom-color: var(--fill-color);\n",
              "    animation:\n",
              "      spin 1s steps(1) infinite;\n",
              "  }\n",
              "\n",
              "  @keyframes spin {\n",
              "    0% {\n",
              "      border-color: transparent;\n",
              "      border-bottom-color: var(--fill-color);\n",
              "      border-left-color: var(--fill-color);\n",
              "    }\n",
              "    20% {\n",
              "      border-color: transparent;\n",
              "      border-left-color: var(--fill-color);\n",
              "      border-top-color: var(--fill-color);\n",
              "    }\n",
              "    30% {\n",
              "      border-color: transparent;\n",
              "      border-left-color: var(--fill-color);\n",
              "      border-top-color: var(--fill-color);\n",
              "      border-right-color: var(--fill-color);\n",
              "    }\n",
              "    40% {\n",
              "      border-color: transparent;\n",
              "      border-right-color: var(--fill-color);\n",
              "      border-top-color: var(--fill-color);\n",
              "    }\n",
              "    60% {\n",
              "      border-color: transparent;\n",
              "      border-right-color: var(--fill-color);\n",
              "    }\n",
              "    80% {\n",
              "      border-color: transparent;\n",
              "      border-right-color: var(--fill-color);\n",
              "      border-bottom-color: var(--fill-color);\n",
              "    }\n",
              "    90% {\n",
              "      border-color: transparent;\n",
              "      border-bottom-color: var(--fill-color);\n",
              "    }\n",
              "  }\n",
              "</style>\n",
              "\n",
              "  <script>\n",
              "    async function quickchart(key) {\n",
              "      const quickchartButtonEl =\n",
              "        document.querySelector('#' + key + ' button');\n",
              "      quickchartButtonEl.disabled = true;  // To prevent multiple clicks.\n",
              "      quickchartButtonEl.classList.add('colab-df-spinner');\n",
              "      try {\n",
              "        const charts = await google.colab.kernel.invokeFunction(\n",
              "            'suggestCharts', [key], {});\n",
              "      } catch (error) {\n",
              "        console.error('Error during call to suggestCharts:', error);\n",
              "      }\n",
              "      quickchartButtonEl.classList.remove('colab-df-spinner');\n",
              "      quickchartButtonEl.classList.add('colab-df-quickchart-complete');\n",
              "    }\n",
              "    (() => {\n",
              "      let quickchartButtonEl =\n",
              "        document.querySelector('#df-69da632f-87c6-4ee7-9ee9-74cefbac0002 button');\n",
              "      quickchartButtonEl.style.display =\n",
              "        google.colab.kernel.accessAllowed ? 'block' : 'none';\n",
              "    })();\n",
              "  </script>\n",
              "</div>\n",
              "\n",
              "    </div>\n",
              "  </div>\n"
            ],
            "application/vnd.google.colaboratory.intrinsic+json": {
              "type": "dataframe",
              "summary": "{\n  \"name\": \"data_new_cleaned[numeric_columns]\",\n  \"rows\": 4,\n  \"fields\": [\n    {\n      \"column\": \"PM2.5\",\n      \"properties\": {\n        \"dtype\": \"number\",\n        \"std\": 15810.419981771514,\n        \"min\": 58.0,\n        \"max\": 32086.0,\n        \"num_unique_values\": 4,\n        \"samples\": [\n          310.0,\n          1062.0,\n          32086.0\n        ],\n        \"semantic_type\": \"\",\n        \"description\": \"\"\n      }\n    },\n    {\n      \"column\": \"PM10\",\n      \"properties\": {\n        \"dtype\": \"number\",\n        \"std\": 15835.03201764998,\n        \"min\": 87.0,\n        \"max\": 32086.0,\n        \"num_unique_values\": 4,\n        \"samples\": [\n          316.0,\n          865.0,\n          32086.0\n        ],\n        \"semantic_type\": \"\",\n        \"description\": \"\"\n      }\n    },\n    {\n      \"column\": \"SO2\",\n      \"properties\": {\n        \"dtype\": \"number\",\n        \"std\": 15211.637373515494,\n        \"min\": 2.0,\n        \"max\": 32086.0,\n        \"num_unique_values\": 4,\n        \"samples\": [\n          286.0,\n          6479.0,\n          32086.0\n        ],\n        \"semantic_type\": \"\",\n        \"description\": \"\"\n      }\n    },\n    {\n      \"column\": \"NO2\",\n      \"properties\": {\n        \"dtype\": \"number\",\n        \"std\": 15757.571479027682,\n        \"min\": 53.0,\n        \"max\": 32086.0,\n        \"num_unique_values\": 4,\n        \"samples\": [\n          411.0,\n          1301.0,\n          32086.0\n        ],\n        \"semantic_type\": \"\",\n        \"description\": \"\"\n      }\n    },\n    {\n      \"column\": \"CO\",\n      \"properties\": {\n        \"dtype\": \"number\",\n        \"std\": 15395.91405752405,\n        \"min\": 59.0,\n        \"max\": 32086.0,\n        \"num_unique_values\": 4,\n        \"samples\": [\n          59.0,\n          3289.0,\n          32086.0\n        ],\n        \"semantic_type\": \"\",\n        \"description\": \"\"\n      }\n    },\n    {\n      \"column\": \"O3\",\n      \"properties\": {\n        \"dtype\": \"number\",\n        \"std\": 15391.615488093943,\n        \"min\": 2.0,\n        \"max\": 32086.0,\n        \"num_unique_values\": 4,\n        \"samples\": [\n          653.0,\n          3787.0,\n          32086.0\n        ],\n        \"semantic_type\": \"\",\n        \"description\": \"\"\n      }\n    },\n    {\n      \"column\": \"TEMP\",\n      \"properties\": {\n        \"dtype\": \"number\",\n        \"std\": 15852.24479109084,\n        \"min\": 3.0,\n        \"max\": 32086.0,\n        \"num_unique_values\": 4,\n        \"samples\": [\n          944.0,\n          228.0,\n          32086.0\n        ],\n        \"semantic_type\": \"\",\n        \"description\": \"\"\n      }\n    },\n    {\n      \"column\": \"PRES\",\n      \"properties\": {\n        \"dtype\": \"number\",\n        \"std\": 15735.047915931704,\n        \"min\": 245.0,\n        \"max\": 32086.0,\n        \"num_unique_values\": 4,\n        \"samples\": [\n          599.0,\n          245.0,\n          32086.0\n        ],\n        \"semantic_type\": \"\",\n        \"description\": \"\"\n      }\n    },\n    {\n      \"column\": \"DEWP\",\n      \"properties\": {\n        \"dtype\": \"number\",\n        \"std\": 15919.592438983269,\n        \"min\": 17.6,\n        \"max\": 32086.0,\n        \"num_unique_values\": 4,\n        \"samples\": [\n          604.0,\n          131.0,\n          32086.0\n        ],\n        \"semantic_type\": \"\",\n        \"description\": \"\"\n      }\n    },\n    {\n      \"column\": \"RAIN\",\n      \"properties\": {\n        \"dtype\": \"number\",\n        \"std\": 18106.134430076454,\n        \"min\": 0.0,\n        \"max\": 32086.0,\n        \"num_unique_values\": 4,\n        \"samples\": [\n          126.0,\n          30732.0,\n          32086.0\n        ],\n        \"semantic_type\": \"\",\n        \"description\": \"\"\n      }\n    },\n    {\n      \"column\": \"WSPM\",\n      \"properties\": {\n        \"dtype\": \"number\",\n        \"std\": 15760.632170908202,\n        \"min\": 1.2,\n        \"max\": 32086.0,\n        \"num_unique_values\": 4,\n        \"samples\": [\n          91.0,\n          1721.0,\n          32086.0\n        ],\n        \"semantic_type\": \"\",\n        \"description\": \"\"\n      }\n    }\n  ]\n}"
            }
          },
          "metadata": {},
          "execution_count": 250
        }
      ]
    },
    {
      "cell_type": "code",
      "source": [
        "data_new_cleaned['datetime'] = pd.to_datetime(data_new_cleaned[['year', 'month', 'day', 'hour']], errors='coerce')\n",
        "highest_pm25_per_year = data_new_cleaned.groupby('year')['PM2.5'].max().reset_index()\n",
        "\n",
        "print(\"Konsentrasi PM2.5 Tertinggi Per Tahun:\")\n",
        "print(highest_pm25_per_year)\n",
        "\n",
        "highest_pm25_year = highest_pm25_per_year.loc[highest_pm25_per_year['PM2.5'].idxmax()]\n",
        "highest_pm25_value = highest_pm25_year['PM2.5']\n",
        "\n",
        "# Menampilkan tahun dan konsentrasi PM2.5 tertinggi\n",
        "print(f\"Tahun dengan konsentrasi PM2.5 tertinggi adalah {highest_pm25_year['year']} dengan nilai {highest_pm25_value}\")\n"
      ],
      "metadata": {
        "colab": {
          "base_uri": "https://localhost:8080/"
        },
        "id": "x1ysbokU1BJf",
        "outputId": "4dca3c5e-b833-4e85-9a26-ff7744f0ab21"
      },
      "execution_count": 251,
      "outputs": [
        {
          "output_type": "stream",
          "name": "stdout",
          "text": [
            "Konsentrasi PM2.5 Tertinggi Per Tahun:\n",
            "     year  PM2.5\n",
            "0  2013.0  297.0\n",
            "1  2014.0  299.0\n",
            "2  2015.0  299.0\n",
            "3  2016.0  300.0\n",
            "4  2017.0  300.0\n",
            "Tahun dengan konsentrasi PM2.5 tertinggi adalah 2016.0 dengan nilai 300.0\n"
          ]
        }
      ]
    },
    {
      "cell_type": "code",
      "source": [
        "df_aotizhongxin = data_new_cleaned[data_new_cleaned['station'] == 'Aotizhongxin'].copy()\n",
        "df_aotizhongxin.loc[:, 'datetime'] = pd.to_datetime(df_aotizhongxin[['year', 'month', 'day']])\n",
        "\n",
        "pm25_per_year = df_aotizhongxin.groupby('datetime')['PM2.5'].max()\n",
        "\n",
        "# Visualisasi tren PM2.5\n",
        "plt.figure(figsize=(12, 6))\n",
        "pm25_per_year.plot()\n",
        "plt.title('Variasi Konsentrasi PM2.5 di Aotizhongxin Seiring Waktu')\n",
        "plt.xlabel('Tahun')\n",
        "plt.ylabel('Rata-rata PM2.5')\n",
        "plt.show()\n"
      ],
      "metadata": {
        "colab": {
          "base_uri": "https://localhost:8080/",
          "height": 537
        },
        "id": "RUabrDHPvUhm",
        "outputId": "975e82e2-842f-4f9c-9984-4db7b5979a72"
      },
      "execution_count": 257,
      "outputs": [
        {
          "output_type": "display_data",
          "data": {
            "text/plain": [
              "<Figure size 1200x600 with 1 Axes>"
            ],
            "image/png": "[encoded data removed]"
          },
          "metadata": {}
        }
      ]
    },
    {
      "cell_type": "code",
      "source": [
        "# Mengelompokkan berdasarkan cuaca, selanjutnya menghitung jumlah pengukuran dan rata-rata polutan dan suhu\n",
        "agg_data = data_new_cleaned.groupby(by=[\"station\", \"RAIN\"]).agg({\n",
        "    \"PM2.5\": [\"sum\", \"mean\"],\n",
        "    \"PM10\": [\"sum\", \"mean\"],\n",
        "    \"NO2\": [\"sum\", \"mean\"],\n",
        "    \"CO\": [\"sum\", \"mean\"],\n",
        "    \"TEMP\": [\"sum\", \"mean\"]\n",
        "})\n",
        "\n",
        "print(agg_data)\n",
        "\n",
        "# Menghitung korelasi antara curah hujan dan PM2.5\n",
        "correlation = data['RAIN'].corr(data['PM2.5'])\n",
        "print(f\"Korelasi antara Curah Hujan dan Konsentrasi PM2.5 adalah: {correlation}\")"
      ],
      "metadata": {
        "colab": {
          "base_uri": "https://localhost:8080/"
        },
        "id": "f_TmCg0_rrvv",
        "outputId": "a47625a4-15b3-4d94-e631-d16040164cb5"
      },
      "execution_count": 258,
      "outputs": [
        {
          "output_type": "stream",
          "name": "stdout",
          "text": [
            "                       PM2.5                  PM10                      NO2  \\\n",
            "                         sum       mean        sum       mean           sum   \n",
            "station      RAIN                                                             \n",
            "Aotizhongxin 0.0   2160012.4  70.285448  2938591.8  95.619934  1748044.6512   \n",
            "             0.1     20004.3  65.160586    21774.9  70.928013    15640.0823   \n",
            "             0.2     10478.0  67.166667    11586.0  74.269231     8036.3515   \n",
            "             0.3      6419.0  61.133333     6761.0  64.390476     4994.7892   \n",
            "             0.4      4649.0  65.478873     5174.0  72.873239        3578.0   \n",
            "...                      ...        ...        ...        ...           ...   \n",
            "             33.7      112.0      112.0      112.0      112.0          13.0   \n",
            "             36.6       12.0       12.0       16.0       16.0          21.0   \n",
            "             40.7      130.0      130.0      130.0      130.0          12.0   \n",
            "             46.4       75.0       75.0       75.0       75.0          21.0   \n",
            "             72.5      209.0      209.0      146.0      146.0       37.1593   \n",
            "\n",
            "                                      CO                        TEMP  \\\n",
            "                        mean         sum         mean            sum   \n",
            "station      RAIN                                                      \n",
            "Aotizhongxin 0.0   56.880276  33727975.0  1097.487147  408583.275675   \n",
            "             0.1   50.944893    332596.0  1083.374593       4944.175   \n",
            "             0.2   51.515074    180099.0  1154.480769        2322.05   \n",
            "             0.3   47.569421    118899.0  1132.371429         1492.1   \n",
            "             0.4   50.394366     80099.0   1128.15493         935.85   \n",
            "...                      ...         ...          ...            ...   \n",
            "             33.7       13.0       600.0        600.0           20.3   \n",
            "             36.6       21.0       800.0        800.0           19.7   \n",
            "             40.7       12.0       600.0        600.0           18.4   \n",
            "             46.4       21.0       600.0        600.0           19.7   \n",
            "             72.5    37.1593       900.0        900.0           23.5   \n",
            "\n",
            "                              \n",
            "                        mean  \n",
            "station      RAIN             \n",
            "Aotizhongxin 0.0   13.295043  \n",
            "             0.1   16.104805  \n",
            "             0.2   14.884936  \n",
            "             0.3   14.210476  \n",
            "             0.4   13.180986  \n",
            "...                      ...  \n",
            "             33.7       20.3  \n",
            "             36.6       19.7  \n",
            "             40.7       18.4  \n",
            "             46.4       19.7  \n",
            "             72.5       23.5  \n",
            "\n",
            "[126 rows x 10 columns]\n",
            "Korelasi antara Curah Hujan dan Konsentrasi PM2.5 adalah: -0.014003923096780606\n"
          ]
        }
      ]
    },
    {
      "cell_type": "markdown",
      "source": [
        "**Insight:**\n",
        "- Berdasarkan grafik, terlihat pada periode tertentu di mana konsentrasi PM2.5 lebih tinggi dibandingkan dengan yang lainnya.\n",
        "- Curah hujan rendah cenderung berhubungan dengan konsentrasi polusi yang lebih tinggi, sementara curah hujan yang tinggi cenderung menurunkan tingkat polusi."
      ],
      "metadata": {
        "id": "th_Lzl2Fkj9O"
      }
    },
    {
      "cell_type": "markdown",
      "metadata": {
        "id": "zsyZjqak8DC2"
      },
      "source": [
        "## Visualization & Explanatory Analysis"
      ]
    },
    {
      "cell_type": "markdown",
      "metadata": {
        "id": "HZxOiQ6n8DC2"
      },
      "source": [
        "### Pertanyaan 1:"
      ]
    },
    {
      "cell_type": "code",
      "execution_count": 259,
      "metadata": {
        "id": "1swJUdAD8DC2",
        "colab": {
          "base_uri": "https://localhost:8080/",
          "height": 554
        },
        "outputId": "fd5f7ba3-0337-47e8-a736-f5adcb85d7f4"
      },
      "outputs": [
        {
          "output_type": "stream",
          "name": "stdout",
          "text": [
            "Nilai PM2.5 tertinggi di seluruh dataset: 300.0\n"
          ]
        },
        {
          "output_type": "display_data",
          "data": {
            "text/plain": [
              "<Figure size 1200x600 with 1 Axes>"
            ],
            "image/png": "[encoded data removed]"
          },
          "metadata": {}
        }
      ],
      "source": [
        "import matplotlib.pyplot as plt\n",
        "\n",
        "# Memastikan 'datetime' sudah ada\n",
        "data_new_cleaned['datetime'] = pd.to_datetime(data_new_cleaned[['year', 'month', 'day', 'hour']], errors='coerce')\n",
        "\n",
        "# Cek nilai PM2.5 tertinggi di seluruh dataset (tanpa grup berdasarkan waktu)\n",
        "highest_pm25_value = data_new_cleaned['PM2.5'].max()\n",
        "\n",
        "# Menampilkan nilai PM2.5 tertinggi\n",
        "print(f\"Nilai PM2.5 tertinggi di seluruh dataset: {highest_pm25_value}\")\n",
        "\n",
        "# Jika ingin menampilkan konsentrasi tertinggi per waktu (menggunakan 'datetime')\n",
        "# Menghitung PM2.5 tertinggi per waktu (bisa per hari, per jam, dll)\n",
        "data_new_cleaned.groupby('datetime')['PM2.5'].max().plot(figsize=(12, 6))\n",
        "\n",
        "# Menambahkan label dan title pada plot\n",
        "plt.title('Konsentrasi PM2.5 Tertinggi Seiring Waktu')\n",
        "plt.xlabel('Waktu')\n",
        "plt.ylabel('Konsentrasi PM2.5 Tertinggi')\n",
        "plt.grid(True)\n",
        "plt.show()\n"
      ]
    },
    {
      "cell_type": "markdown",
      "source": [
        "**Insight:**\n",
        "- Dengan visualisasi tren PM2.5 berdasarkan waktu, kita dapat melihat fluktuasi tren dalam polusi udara dari waktu ke waktu. Dan puncaknya pada tahun 2016"
      ],
      "metadata": {
        "id": "pFdltcHnqKa4"
      }
    },
    {
      "cell_type": "markdown",
      "metadata": {
        "id": "DgHI7CiU8DC2"
      },
      "source": [
        "### Pertanyaan 2:"
      ]
    },
    {
      "cell_type": "code",
      "execution_count": 260,
      "metadata": {
        "id": "Go0lCsvO8DC2",
        "colab": {
          "base_uri": "https://localhost:8080/"
        },
        "outputId": "8b814be3-846f-4f57-c8ea-3dc6a8351104"
      },
      "outputs": [
        {
          "output_type": "stream",
          "name": "stdout",
          "text": [
            "           TEMP      RAIN      WSPM      PRES      DEWP     PM2.5\n",
            "TEMP   1.000000  0.039746 -0.008440 -0.826458  0.824959 -0.034435\n",
            "RAIN   0.039746  1.000000  0.023621 -0.063459  0.083857 -0.006924\n",
            "WSPM  -0.008440  0.023621  1.000000  0.110159 -0.337438 -0.296486\n",
            "PRES  -0.826458 -0.063459  0.110159  1.000000 -0.777326 -0.075040\n",
            "DEWP   0.824959  0.083857 -0.337438 -0.777326  1.000000  0.207034\n",
            "PM2.5 -0.034435 -0.006924 -0.296486 -0.075040  0.207034  1.000000\n"
          ]
        }
      ],
      "source": [
        "data_new_cleaned = data_new_cleaned.dropna(subset=weather_factors + ['PM2.5'])\n",
        "correlation_pm2_5_weather = data_new_cleaned[weather_factors + ['PM2.5']].corr()\n",
        "\n",
        "print(correlation_pm2_5_weather)"
      ]
    },
    {
      "cell_type": "code",
      "source": [
        "sns.heatmap(correlation_pm2_5_weather, annot=True, cmap='coolwarm', fmt='.2f')\n",
        "plt.title('Korelasi PM2.5 dengan Faktor Cuaca')\n",
        "plt.show()"
      ],
      "metadata": {
        "colab": {
          "base_uri": "https://localhost:8080/",
          "height": 452
        },
        "id": "wtp9rmjeikiv",
        "outputId": "b7dcd717-c323-4c0b-8717-bda5dd8afc56"
      },
      "execution_count": 261,
      "outputs": [
        {
          "output_type": "display_data",
          "data": {
            "text/plain": [
              "<Figure size 640x480 with 2 Axes>"
            ],
            "image/png": "[encoded data removed]"
          },
          "metadata": {}
        }
      ]
    },
    {
      "cell_type": "markdown",
      "source": [
        "**Insight:**\n",
        "- Suhu memiliki korelasi negatif yang kuat dengan PM2.5, yang menunjukkan bahwa suhu yang lebih tinggi berhubungan dengan penurunan konsentrasi polusi udara."
      ],
      "metadata": {
        "id": "_0-36BDLklRg"
      }
    },
    {
      "cell_type": "markdown",
      "source": [
        "## Analisis Lanjutan (Opsional)"
      ],
      "metadata": {
        "id": "9y4VUsmcYNZ5"
      }
    },
    {
      "cell_type": "code",
      "source": [],
      "metadata": {
        "id": "iWhnzsJGYUCO",
        "colab": {
          "base_uri": "https://localhost:8080/",
          "height": 17
        },
        "outputId": "d4665adb-d3bf-4d5d-a56a-f120d16613b4"
      },
      "execution_count": null,
      "outputs": [
        {
          "output_type": "display_data",
          "data": {
            "text/plain": [
              "<IPython.core.display.Javascript object>"
            ],
            "application/javascript": [
              "\n",
              "    async function download(id, filename, size) {\n",
              "      if (!google.colab.kernel.accessAllowed) {\n",
              "        return;\n",
              "      }\n",
              "      const div = document.createElement('div');\n",
              "      const label = document.createElement('label');\n",
              "      label.textContent = `Downloading \"${filename}\": `;\n",
              "      div.appendChild(label);\n",
              "      const progress = document.createElement('progress');\n",
              "      progress.max = size;\n",
              "      div.appendChild(progress);\n",
              "      document.body.appendChild(div);\n",
              "\n",
              "      const buffers = [];\n",
              "      let downloaded = 0;\n",
              "\n",
              "      const channel = await google.colab.kernel.comms.open(id);\n",
              "      // Send a message to notify the kernel that we're ready.\n",
              "      channel.send({})\n",
              "\n",
              "      for await (const message of channel.messages) {\n",
              "        // Send a message to notify the kernel that we're ready.\n",
              "        channel.send({})\n",
              "        if (message.buffers) {\n",
              "          for (const buffer of message.buffers) {\n",
              "            buffers.push(buffer);\n",
              "            downloaded += buffer.byteLength;\n",
              "            progress.value = downloaded;\n",
              "          }\n",
              "        }\n",
              "      }\n",
              "      const blob = new Blob(buffers, {type: 'application/binary'});\n",
              "      const a = document.createElement('a');\n",
              "      a.href = window.URL.createObjectURL(blob);\n",
              "      a.download = filename;\n",
              "      div.appendChild(a);\n",
              "      a.click();\n",
              "      div.remove();\n",
              "    }\n",
              "  "
            ]
          },
          "metadata": {}
        },
        {
          "output_type": "display_data",
          "data": {
            "text/plain": [
              "<IPython.core.display.Javascript object>"
            ],
            "application/javascript": [
              "download(\"download_3acdea70-d814-44f5-b094-c482b2e6868b\", \"PRSA_Data_Aotizhongxin_20130301-20170228.xls\", 2835916)"
            ]
          },
          "metadata": {}
        }
      ]
    },
    {
      "cell_type": "markdown",
      "metadata": {
        "id": "_WeHlCeX8DC2"
      },
      "source": [
        "## Conclusion"
      ]
    },
    {
      "cell_type": "markdown",
      "metadata": {
        "id": "ZTcyR48Y8DC2"
      },
      "source": [
        "- Dengan menganalisis tren konsentrasi PM2.5, kita dapat mengidentifikasi apakah kualitas udara mengalami peningkatan atau penurunan dari waktu ke waktu. Pada tahun 2016, terjadi tren tertinggi di antara tahun-tahun lainnya, yang menunjukkan bahwa tahun tersebut memiliki tingkat polusi udara yang lebih tinggi yaitu 300.0.\n",
        "- Dari analisis faktor cuaca, suhu (temperature) terbukti menjadi faktor yang paling berpengaruh terhadap konsentrasi PM2.5. Hasil analisis ini menunjukkan adanya hubungan terbalik, di mana suhu yang lebih tinggi cenderung berhubungan dengan konsentrasi PM2.5 yang lebih rendah dengan nilai korelasi konsentrasi -0.014003923096780606, yang bisa mengindikasikan adanya perbedaan dalam distribusi polutan pada kondisi suhu yang lebih tinggi."
      ]
    }
  ],
  "metadata": {
    "kernelspec": {
      "display_name": "Python 3",
      "language": "python",
      "name": "python3"
    },
    "language_info": {
      "name": "python",
      "version": "3.8.0 (tags/v3.8.0:fa919fd, Oct 14 2019, 19:21:23) [MSC v.1916 32 bit (Intel)]"
    },
    "orig_nbformat": 4,
    "vscode": {
      "interpreter": {
        "hash": "972b3bf27e332e87b5379f2791f6ef9dfc79c71018c370b0d7423235e20fe4d7"
      }
    },
    "colab": {
      "provenance": []
    }
  },
  "nbformat": 4,
  "nbformat_minor": 0
}